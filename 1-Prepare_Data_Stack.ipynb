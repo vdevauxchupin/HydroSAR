{
 "cells": [
  {
   "cell_type": "markdown",
   "metadata": {},
   "source": [
    "![OpenSARlab notebook banner](NotebookAddons/blackboard-banner.png)\n",
    "\n",
    "# Prepare a SAR Data Stack\n",
    "### Joseph H Kennedy and Alex Lewandowski; Alaska Satellite Facility\n",
    "\n",
    "This notebook downloads an ASF-HyP3 RTC project and prepares a deep multi-temporal SAR image data stack for use in other notebooks.\n",
    "\n",
    "<img style=\"padding: 7px\" src=\"NotebookAddons/UAFLogo_A_647.png\" width=\"170\" align=\"right\"/></font>"
   ]
  },
  {
   "cell_type": "markdown",
   "metadata": {},
   "source": [
    "### Important Note about JupyterHub\n",
    "\n",
    "**Your JupyterHub server will automatically shutdown when left idle for more than 1 hour. Your notebooks will not be lost but you will have to restart their kernels and re-run them from the beginning. You will not be able to seamlessly continue running a partially run notebook.**"
   ]
  },
  {
   "cell_type": "code",
   "execution_count": 1,
   "metadata": {},
   "outputs": [
    {
     "data": {
      "application/vnd.jupyter.widget-view+json": {
       "model_id": "e05a67ca5cc04cd187b84ca371f68a44",
       "version_major": 2,
       "version_minor": 0
      },
      "text/plain": [
       "URLWidget()"
      ]
     },
     "metadata": {},
     "output_type": "display_data"
    }
   ],
   "source": [
    "import url_widget as url_w\n",
    "notebookUrl = url_w.URLWidget()\n",
    "display(notebookUrl)\n"
   ]
  },
  {
   "cell_type": "code",
   "execution_count": 2,
   "metadata": {
    "pycharm": {
     "name": "#%%\n"
    }
   },
   "outputs": [],
   "source": [
    "from IPython.display import Markdown\n",
    "from IPython.display import display\n",
    "\n",
    "notebookUrl = notebookUrl.value\n",
    "user = !echo $JUPYTERHUB_USER\n",
    "env = !echo $CONDA_PREFIX\n",
    "if env[0] == '':\n",
    "    env[0] = 'Python 3 (base)'\n",
    "if env[0] != '/home/jovyan/.local/envs/rtc_analysis':\n",
    "    display(Markdown(f'<text style=color:red><strong>WARNING:</strong></text>'))\n",
    "    display(Markdown(f'<text style=color:red>This notebook should be run using the \"rtc_analysis\" conda environment.</text>'))\n",
    "    display(Markdown(f'<text style=color:red>It is currently using the \"{env[0].split(\"/\")[-1]}\" environment.</text>'))\n",
    "    display(Markdown(f'<text style=color:red>Select the \"rtc_analysis\" from the \"Change Kernel\" submenu of the \"Kernel\" menu.</text>'))\n",
    "    display(Markdown(f'<text style=color:red>If the \"rtc_analysis\" environment is not present, use <a href=\"{notebookUrl.split(\"/user\")[0]}/user/{user[0]}/notebooks/conda_environments/Create_OSL_Conda_Environments.ipynb\"> Create_OSL_Conda_Environments.ipynb </a> to create it.</text>'))\n",
    "    display(Markdown(f'<text style=color:red>Note that you must restart your server after creating a new environment before it is usable by notebooks.</text>'))"
   ]
  },
  {
   "cell_type": "markdown",
   "metadata": {},
   "source": [
    "## 0. Importing Relevant Python Packages\n",
    "\n",
    "In this notebook we will use the following scientific libraries:\n",
    "\n",
    "1. [GDAL](https://www.gdal.org/) is a software library for reading and writing raster and vector geospatial data formats. It includes a collection of programs tailored for geospatial data processing. Most modern GIS systems (such as ArcGIS or QGIS) use GDAL in the background.\n",
    "1. [NumPy](http://www.numpy.org/) is one of the principal packages for scientific applications of Python. It is intended for processing large multidimensional arrays and matrices, and an extensive collection of high-level mathematical functions and implemented methods makes it possible to perform various operations with these objects.\n",
    "\n",
    "**Our first step is to import them:**"
   ]
  },
  {
   "cell_type": "code",
   "execution_count": 3,
   "metadata": {},
   "outputs": [],
   "source": [
    "%%capture\n",
    "import copy\n",
    "from datetime import datetime, timedelta, timezone\n",
    "import json # for loads\n",
    "from pathlib import Path\n",
    "import re\n",
    "import shutil\n",
    "import warnings\n",
    "import rasterio\n",
    "from rasterio.merge import merge\n",
    "\n",
    "from osgeo import gdal\n",
    "import numpy as np\n",
    "\n",
    "from IPython.display import display, clear_output, Markdown\n",
    "\n",
    "import opensarlab_lib as asfn\n",
    "\n",
    "from hyp3_sdk import Batch, HyP3"
   ]
  },
  {
   "cell_type": "markdown",
   "metadata": {},
   "source": [
    "## 1. Load Your Own Data Stack Into the Notebook\n",
    "\n",
    "This notebook assumes that you've created your own data stack over your personal area of interest using the [Alaska Satellite Facility's](https://www.asf.alaska.edu/) value-added product system HyP3, available via [ASF Data Search (Vertex)](https://search.asf.alaska.edu/#/). HyP3 is an ASF service used to prototype value added products and provide them to users to collect feedback.\n",
    "\n",
    "We will retrieve HyP3 data via the hyp3_sdk. As both HyP3 and the Notebook environment sit in the [Amazon Web Services (AWS)](https://aws.amazon.com/) cloud, data transfer is quick and cost effective.\n",
    "\n",
    "---\n",
    "\n",
    "Before we download anything, create a working directory for this analysis.\n",
    "\n",
    "**Select or create a working directory for the analysis:**"
   ]
  },
  {
   "cell_type": "code",
   "execution_count": 4,
   "metadata": {},
   "outputs": [
    {
     "name": "stdout",
     "output_type": "stream",
     "text": [
      "Current working directory: /home/jovyan/Hydrosar\n"
     ]
    },
    {
     "name": "stdin",
     "output_type": "stream",
     "text": [
      "\n",
      "Please enter the name of a directory in which to store your data for this analysis. Kerala_short\n"
     ]
    }
   ],
   "source": [
    "while True:\n",
    "    print(f\"Current working directory: {Path.cwd()}\")\n",
    "    data_dir = Path(Path.cwd()/'Dataset'/input(f\"\\nPlease enter the name of a directory in which to store your data for this analysis.\"))\n",
    "    if data_dir == Path('.'):\n",
    "        continue\n",
    "    if data_dir.is_dir():\n",
    "        contents = data_dir.glob('*')\n",
    "        if len(list(contents)) > 0:\n",
    "            choice = asfn.handle_old_data(data_dir)\n",
    "            if choice == 1:\n",
    "                if data_dir.exists():\n",
    "                    shutil.rmtree(data_dir)\n",
    "                data_dir.mkdir(parents=True, exist_ok=True)\n",
    "                break\n",
    "            elif choice == 2:\n",
    "                break\n",
    "            else:\n",
    "                clear_output()\n",
    "                continue\n",
    "        else:\n",
    "            break\n",
    "    else:\n",
    "        data_dir.mkdir(parents=True, exist_ok=True)\n",
    "        break"
   ]
  },
  {
   "cell_type": "markdown",
   "metadata": {
    "slideshow": {
     "slide_type": "subslide"
    }
   },
   "source": [
    "**Define absolute path to  analysis directory:**"
   ]
  },
  {
   "cell_type": "code",
   "execution_count": 5,
   "metadata": {},
   "outputs": [
    {
     "name": "stdout",
     "output_type": "stream",
     "text": [
      "analysis_directory: /home/jovyan/Hydrosar/Dataset/Kerala_short\n"
     ]
    }
   ],
   "source": [
    "analysis_directory = Path.cwd().joinpath(data_dir)\n",
    "print(f\"analysis_directory: {analysis_directory}\")"
   ]
  },
  {
   "cell_type": "markdown",
   "metadata": {},
   "source": [
    "**Create a HyP3 object and authenticate:**"
   ]
  },
  {
   "cell_type": "code",
   "execution_count": 6,
   "metadata": {
    "scrolled": true
   },
   "outputs": [
    {
     "name": "stdin",
     "output_type": "stream",
     "text": [
      "NASA Earthdata Login username:  vdevauxchupin\n",
      "NASA Earthdata Login password:  ········\n"
     ]
    }
   ],
   "source": [
    "hyp3 = HyP3(prompt=True)"
   ]
  },
  {
   "cell_type": "markdown",
   "metadata": {},
   "source": [
    "**Select a product type to download:**"
   ]
  },
  {
   "cell_type": "code",
   "execution_count": 7,
   "metadata": {},
   "outputs": [
    {
     "data": {
      "application/vnd.jupyter.widget-view+json": {
       "model_id": "3bbca34c2ba840dfb77b4cbbf0c37154",
       "version_major": 2,
       "version_minor": 0
      },
      "text/plain": [
       "RadioButtons(layout=Layout(min_width='800px'), options=('RTC_GAMMA', 'INSAR_GAMMA', 'AUTORIFT'), value='RTC_GA…"
      ]
     },
     "metadata": {},
     "output_type": "display_data"
    }
   ],
   "source": [
    "job_types = ['RTC_GAMMA', 'INSAR_GAMMA', 'AUTORIFT']\n",
    "job_type = asfn.select_parameter(job_types)\n",
    "job_type"
   ]
  },
  {
   "cell_type": "markdown",
   "metadata": {},
   "source": [
    "**Decide whether to search for a HyP3 project or jobs unattached to a project:** "
   ]
  },
  {
   "cell_type": "code",
   "execution_count": 8,
   "metadata": {},
   "outputs": [
    {
     "name": "stdout",
     "output_type": "stream",
     "text": [
      "Select whether to search for HyP3 Project or HyP3 Jobs unattached to a project\n"
     ]
    },
    {
     "data": {
      "application/vnd.jupyter.widget-view+json": {
       "model_id": "67faa35283a1492aa811d61e5584458f",
       "version_major": 2,
       "version_minor": 0
      },
      "text/plain": [
       "RadioButtons(layout=Layout(min_width='800px'), options=('project', 'projectless jobs'), value='project')"
      ]
     },
     "metadata": {},
     "output_type": "display_data"
    }
   ],
   "source": [
    "options = ['project', 'projectless jobs']\n",
    "search_type = asfn.select_parameter(options, '')\n",
    "print(\"Select whether to search for HyP3 Project or HyP3 Jobs unattached to a project\")\n",
    "display(search_type)"
   ]
  },
  {
   "cell_type": "markdown",
   "metadata": {},
   "source": [
    "**List projects containing active products of the type chosen in the previous cell and select one:**"
   ]
  },
  {
   "cell_type": "code",
   "execution_count": 9,
   "metadata": {},
   "outputs": [
    {
     "data": {
      "text/markdown": [
       "<text style='color:darkred;'>Note: After selecting a project, you must select the next cell before hitting the 'Run' button or typing Shift/Enter.</text>"
      ],
      "text/plain": [
       "<IPython.core.display.Markdown object>"
      ]
     },
     "metadata": {},
     "output_type": "display_data"
    },
    {
     "data": {
      "text/markdown": [
       "<text style='color:darkred;'>Otherwise, you will rerun this code cell.</text>"
      ],
      "text/plain": [
       "<IPython.core.display.Markdown object>"
      ]
     },
     "metadata": {},
     "output_type": "display_data"
    },
    {
     "name": "stdout",
     "output_type": "stream",
     "text": [
      "\n",
      "Select a Project:\n"
     ]
    },
    {
     "data": {
      "application/vnd.jupyter.widget-view+json": {
       "model_id": "8b573ec4a46748a49ceda2cb7cc77868",
       "version_major": 2,
       "version_minor": 0
      },
      "text/plain": [
       "RadioButtons(layout=Layout(min_width='800px'), options=('08-06-23_zone1', '08-06-23_zone2', '08-06-24_Zone3', …"
      ]
     },
     "metadata": {},
     "output_type": "display_data"
    }
   ],
   "source": [
    "my_hyp3_info = hyp3.my_info()\n",
    "active_projects = dict()\n",
    "\n",
    "if search_type.value == 'project':\n",
    "    for project in my_hyp3_info['job_names']:\n",
    "        batch = Batch()\n",
    "        batch = hyp3.find_jobs(name=project, job_type=job_type.value).filter_jobs(running=False, include_expired=False)\n",
    "        if len(batch) > 0:\n",
    "            active_projects.update({batch.jobs[0].name: batch})\n",
    "\n",
    "    if len(active_projects) > 0:\n",
    "        display(Markdown(\"<text style='color:darkred;'>Note: After selecting a project, you must select the next cell before hitting the 'Run' button or typing Shift/Enter.</text>\"))\n",
    "        display(Markdown(\"<text style='color:darkred;'>Otherwise, you will rerun this code cell.</text>\"))\n",
    "        print('\\nSelect a Project:')\n",
    "        project_select = asfn.select_parameter(active_projects.keys())\n",
    "        display(project_select)\n",
    "if search_type.value == 'projectless jobs' or len(active_projects) == 0:\n",
    "    project_select = False\n",
    "    if search_type.value == 'project':\n",
    "        print(f\"There were no {job_type.value} jobs found in any current projects.\\n\")\n",
    "    jobs = hyp3.find_jobs(job_type=job_type.value).filter_jobs(running=False, include_expired=False)\n",
    "    orphaned_jobs = Batch()\n",
    "    for j in jobs:\n",
    "        if not j.name:\n",
    "            orphaned_jobs += j\n",
    "    jobs = orphaned_jobs\n",
    "\n",
    "    if len(jobs) > 0:\n",
    "        print(f\"Found {len(jobs)} {job_type.value} jobs that are not part of a project.\")\n",
    "        print(f\"Select the jobs you wish to download\")\n",
    "        jobs = {i.files[0]['filename']: i for i in jobs}\n",
    "        jobs_select = asfn.select_mult_parameters(jobs.keys(), '', width='500px')\n",
    "        display(jobs_select)\n",
    "    else:\n",
    "        print(f\"There were no {job_type.value} jobs found that are not part of a project either.\")\n",
    "    "
   ]
  },
  {
   "cell_type": "markdown",
   "metadata": {},
   "source": [
    "**Select a date range of products to download:**"
   ]
  },
  {
   "cell_type": "code",
   "execution_count": 10,
   "metadata": {},
   "outputs": [
    {
     "data": {
      "text/markdown": [
       "<text style='color:darkred;'>Note: After selecting a date range, you should select the next cell before hitting the 'Run' button or typing Shift/Enter.</text>"
      ],
      "text/plain": [
       "<IPython.core.display.Markdown object>"
      ]
     },
     "metadata": {},
     "output_type": "display_data"
    },
    {
     "data": {
      "text/markdown": [
       "<text style='color:darkred;'>Otherwise, you may simply rerun this code cell.</text>"
      ],
      "text/plain": [
       "<IPython.core.display.Markdown object>"
      ]
     },
     "metadata": {},
     "output_type": "display_data"
    },
    {
     "name": "stdout",
     "output_type": "stream",
     "text": [
      "\n",
      "Select a Date Range:\n"
     ]
    },
    {
     "data": {
      "application/vnd.jupyter.widget-view+json": {
       "model_id": "9ea3e9b97980436f87f59cec8a502bbe",
       "version_major": 2,
       "version_minor": 0
      },
      "text/plain": [
       "SelectionRangeSlider(description='Dates', index=(0, 600), layout=Layout(width='500px'), options=((' 03/06/2018…"
      ]
     },
     "metadata": {},
     "output_type": "display_data"
    }
   ],
   "source": [
    "if project_select:\n",
    "    batch = active_projects[project_select.value]\n",
    "else:\n",
    "    batch = Batch()\n",
    "    for j in jobs_select.value:\n",
    "        batch += jobs[j]\n",
    "\n",
    "display(Markdown(\"<text style='color:darkred;'>Note: After selecting a date range, you should select the next cell before hitting the 'Run' button or typing Shift/Enter.</text>\"))\n",
    "display(Markdown(\"<text style='color:darkred;'>Otherwise, you may simply rerun this code cell.</text>\"))\n",
    "print('\\nSelect a Date Range:')\n",
    "dates = asfn.get_job_dates(batch)\n",
    "date_picker = asfn.gui_date_picker(dates)\n",
    "date_picker"
   ]
  },
  {
   "cell_type": "markdown",
   "metadata": {},
   "source": [
    "**Save the selected date range and remove products falling outside of it:**"
   ]
  },
  {
   "cell_type": "code",
   "execution_count": 11,
   "metadata": {
    "scrolled": true
   },
   "outputs": [
    {
     "name": "stdout",
     "output_type": "stream",
     "text": [
      "Date Range: 2018-03-06 to 2019-10-27\n"
     ]
    }
   ],
   "source": [
    "date_range = asfn.get_slider_vals(date_picker)\n",
    "date_range[0] = date_range[0].date()\n",
    "date_range[1] = date_range[1].date()\n",
    "print(f\"Date Range: {str(date_range[0])} to {str(date_range[1])}\")\n",
    "batch = asfn.filter_jobs_by_date(batch, date_range)"
   ]
  },
  {
   "cell_type": "markdown",
   "metadata": {},
   "source": [
    "**Gather the available paths and orbit directions for the remaining products:**"
   ]
  },
  {
   "cell_type": "code",
   "execution_count": 12,
   "metadata": {},
   "outputs": [
    {
     "data": {
      "text/markdown": [
       "<text style='color:darkred;'><text style='font-size:150%;'>This may take some time for projects containing many jobs...</text></text>"
      ],
      "text/plain": [
       "<IPython.core.display.Markdown object>"
      ]
     },
     "metadata": {},
     "output_type": "display_data"
    },
    {
     "data": {
      "text/markdown": [
       "<text style=color:blue><text style='font-size:175%;'>Done.</text></text>"
      ],
      "text/plain": [
       "<IPython.core.display.Markdown object>"
      ]
     },
     "metadata": {},
     "output_type": "display_data"
    }
   ],
   "source": [
    "display(Markdown(\"<text style='color:darkred;'><text style='font-size:150%;'>This may take some time for projects containing many jobs...</text></text>\"))\n",
    "asfn.set_paths_orbits(batch)\n",
    "paths = set()\n",
    "orbit_directions = set()\n",
    "for p in batch:\n",
    "    paths.add(p.path)\n",
    "    orbit_directions.add(p.orbit_direction)\n",
    "paths.add('All Paths')\n",
    "display(Markdown(f\"<text style=color:blue><text style='font-size:175%;'>Done.</text></text>\"))"
   ]
  },
  {
   "cell_type": "markdown",
   "metadata": {},
   "source": [
    "---\n",
    "**Select a path or paths (use shift or ctrl to select multiple paths):**"
   ]
  },
  {
   "cell_type": "code",
   "execution_count": 13,
   "metadata": {},
   "outputs": [
    {
     "data": {
      "text/markdown": [
       "<text style='color:darkred;'>Note: After selecting a path, you must select the next cell before hitting the 'Run' button or typing Shift/Enter.</text>"
      ],
      "text/plain": [
       "<IPython.core.display.Markdown object>"
      ]
     },
     "metadata": {},
     "output_type": "display_data"
    },
    {
     "data": {
      "text/markdown": [
       "<text style='color:darkred;'>Otherwise, you will simply rerun this code cell.</text>"
      ],
      "text/plain": [
       "<IPython.core.display.Markdown object>"
      ]
     },
     "metadata": {},
     "output_type": "display_data"
    },
    {
     "name": "stdout",
     "output_type": "stream",
     "text": [
      "\n",
      "Select a Path:\n"
     ]
    },
    {
     "data": {
      "application/vnd.jupyter.widget-view+json": {
       "model_id": "9f2e1baa8b7640efbba5e809fa96984b",
       "version_major": 2,
       "version_minor": 0
      },
      "text/plain": [
       "SelectMultiple(layout=Layout(height='38px', width='175px'), options=('All Paths', 165), value=())"
      ]
     },
     "metadata": {},
     "output_type": "display_data"
    }
   ],
   "source": [
    "display(Markdown(\"<text style='color:darkred;'>Note: After selecting a path, you must select the next cell before hitting the 'Run' button or typing Shift/Enter.</text>\"))\n",
    "display(Markdown(\"<text style='color:darkred;'>Otherwise, you will simply rerun this code cell.</text>\"))\n",
    "print('\\nSelect a Path:')\n",
    "path_choice = asfn.select_mult_parameters(paths)\n",
    "path_choice"
   ]
  },
  {
   "cell_type": "markdown",
   "metadata": {},
   "source": [
    "**Save the selected flight path/s:**"
   ]
  },
  {
   "cell_type": "code",
   "execution_count": 14,
   "metadata": {},
   "outputs": [
    {
     "name": "stdout",
     "output_type": "stream",
     "text": [
      "Flight Path: (165,)\n"
     ]
    }
   ],
   "source": [
    "flight_path = path_choice.value\n",
    "if flight_path:\n",
    "    if flight_path:\n",
    "        print(f\"Flight Path: {flight_path}\")\n",
    "    else:\n",
    "        print('Flight Path: All Paths')\n",
    "else:\n",
    "    print(\"WARNING: You must select a flight path in the previous cell, then rerun this cell.\")"
   ]
  },
  {
   "cell_type": "markdown",
   "metadata": {},
   "source": [
    "**Select an orbit direction:**"
   ]
  },
  {
   "cell_type": "code",
   "execution_count": 15,
   "metadata": {},
   "outputs": [
    {
     "name": "stdout",
     "output_type": "stream",
     "text": [
      "\n",
      "Select a Flight Direction:\n"
     ]
    },
    {
     "data": {
      "application/vnd.jupyter.widget-view+json": {
       "model_id": "a5c5a0d4f6044e2a86154e8cb10fce30",
       "version_major": 2,
       "version_minor": 0
      },
      "text/plain": [
       "RadioButtons(description='Direction:', layout=Layout(min_width='800px'), options=('DESCENDING',), value='DESCE…"
      ]
     },
     "metadata": {},
     "output_type": "display_data"
    }
   ],
   "source": [
    "if len(orbit_directions) > 1:\n",
    "    display(Markdown(\"<text style='color:red;'>Note: After selecting a flight direction, you must select the next cell before hitting the 'Run' button or typing Shift/Enter.</text>\"))\n",
    "    display(Markdown(\"<text style='color:red;'>Otherwise, you will simply rerun this code cell.</text>\"))\n",
    "print('\\nSelect a Flight Direction:')\n",
    "direction_choice = asfn.select_parameter(orbit_directions, 'Direction:')\n",
    "direction_choice"
   ]
  },
  {
   "cell_type": "markdown",
   "metadata": {},
   "source": [
    "**Save the selected orbit direction:**"
   ]
  },
  {
   "cell_type": "code",
   "execution_count": 16,
   "metadata": {},
   "outputs": [
    {
     "name": "stdout",
     "output_type": "stream",
     "text": [
      "Orbit Direction: DESCENDING\n"
     ]
    }
   ],
   "source": [
    "direction = direction_choice.value\n",
    "print(f\"Orbit Direction: {direction}\")"
   ]
  },
  {
   "cell_type": "markdown",
   "metadata": {},
   "source": [
    "**Filter jobs by path and orbit direction:**"
   ]
  },
  {
   "cell_type": "code",
   "execution_count": 17,
   "metadata": {},
   "outputs": [
    {
     "name": "stdout",
     "output_type": "stream",
     "text": [
      "There are 34 products to download.\n"
     ]
    }
   ],
   "source": [
    "batch = asfn.filter_jobs_by_path(batch, flight_path)\n",
    "batch = asfn.filter_jobs_by_orbit(batch, direction)\n",
    "print(f\"There are {len(batch)} products to download.\")"
   ]
  },
  {
   "cell_type": "markdown",
   "metadata": {},
   "source": [
    "**Download the products, unzip them into a directory named after the product type, and delete the zip files:**"
   ]
  },
  {
   "cell_type": "code",
   "execution_count": 18,
   "metadata": {
    "scrolled": true,
    "tags": []
   },
   "outputs": [
    {
     "name": "stdout",
     "output_type": "stream",
     "text": [
      "/home/jovyan/Hydrosar/Dataset/Kerala_short/RTC_GAMMA\n",
      "\n",
      "Project: 2019_Kerala\n"
     ]
    },
    {
     "data": {
      "application/vnd.jupyter.widget-view+json": {
       "model_id": "13096e3e3eb74e959007b9c26f9734c3",
       "version_major": 2,
       "version_minor": 0
      },
      "text/plain": [
       "  0%|          | 0/34 [00:00<?, ?it/s]"
      ]
     },
     "metadata": {},
     "output_type": "display_data"
    },
    {
     "data": {
      "application/vnd.jupyter.widget-view+json": {
       "model_id": "1100a351a49a42dba0c1055886625c47",
       "version_major": 2,
       "version_minor": 0
      },
      "text/plain": [
       "S1A_IW_20180704T004040_DVP_RTC20_G_gpufem_77D5.zip:   0%|          | 0/1164737977 [00:00<?, ?it/s]"
      ]
     },
     "metadata": {},
     "output_type": "display_data"
    },
    {
     "data": {
      "application/vnd.jupyter.widget-view+json": {
       "model_id": "00af7db247984d2ab4f1cceb320aae3a",
       "version_major": 2,
       "version_minor": 0
      },
      "text/plain": [
       "S1A_IW_20180529T004038_DVP_RTC20_G_gpufem_4510.zip:   0%|          | 0/1160649552 [00:00<?, ?it/s]"
      ]
     },
     "metadata": {},
     "output_type": "display_data"
    },
    {
     "data": {
      "application/vnd.jupyter.widget-view+json": {
       "model_id": "2b7506548fc14f38b191de8afeccfd91",
       "version_major": 2,
       "version_minor": 0
      },
      "text/plain": [
       "S1A_IW_20180610T004039_DVP_RTC20_G_gpufem_4C2F.zip:   0%|          | 0/1162400922 [00:00<?, ?it/s]"
      ]
     },
     "metadata": {},
     "output_type": "display_data"
    },
    {
     "data": {
      "application/vnd.jupyter.widget-view+json": {
       "model_id": "4cb9688141e94d4aafee85ef0de80bf8",
       "version_major": 2,
       "version_minor": 0
      },
      "text/plain": [
       "S1A_IW_20180517T004037_DVP_RTC20_G_gpufem_39A8.zip:   0%|          | 0/1162656594 [00:00<?, ?it/s]"
      ]
     },
     "metadata": {},
     "output_type": "display_data"
    },
    {
     "data": {
      "application/vnd.jupyter.widget-view+json": {
       "model_id": "e6ad4ffb054944c4adb36e79ed8d6eb6",
       "version_major": 2,
       "version_minor": 0
      },
      "text/plain": [
       "S1A_IW_20180809T004042_DVP_RTC20_G_gpufem_4B41.zip:   0%|          | 0/1163492218 [00:00<?, ?it/s]"
      ]
     },
     "metadata": {},
     "output_type": "display_data"
    },
    {
     "data": {
      "application/vnd.jupyter.widget-view+json": {
       "model_id": "89bcd9dfaee14062ac9a9267da7c24bc",
       "version_major": 2,
       "version_minor": 0
      },
      "text/plain": [
       "S1A_IW_20180505T004036_DVP_RTC20_G_gpufem_930F.zip:   0%|          | 0/1163018989 [00:00<?, ?it/s]"
      ]
     },
     "metadata": {},
     "output_type": "display_data"
    },
    {
     "data": {
      "application/vnd.jupyter.widget-view+json": {
       "model_id": "e9e7e2806d304d8abeead741930c45d5",
       "version_major": 2,
       "version_minor": 0
      },
      "text/plain": [
       "S1A_IW_20180728T004041_DVP_RTC20_G_gpufem_2F86.zip:   0%|          | 0/1164949838 [00:00<?, ?it/s]"
      ]
     },
     "metadata": {},
     "output_type": "display_data"
    },
    {
     "data": {
      "application/vnd.jupyter.widget-view+json": {
       "model_id": "cb3c226e8df14bc289448a0f293c20de",
       "version_major": 2,
       "version_minor": 0
      },
      "text/plain": [
       "S1A_IW_20180318T004035_DVP_RTC20_G_gpufem_94DE.zip:   0%|          | 0/1163385255 [00:00<?, ?it/s]"
      ]
     },
     "metadata": {},
     "output_type": "display_data"
    },
    {
     "data": {
      "application/vnd.jupyter.widget-view+json": {
       "model_id": "9675f9eb6daa46378cf760c2af9987da",
       "version_major": 2,
       "version_minor": 0
      },
      "text/plain": [
       "S1A_IW_20180423T004036_DVP_RTC20_G_gpufem_8DF5.zip:   0%|          | 0/1166438434 [00:00<?, ?it/s]"
      ]
     },
     "metadata": {},
     "output_type": "display_data"
    },
    {
     "data": {
      "application/vnd.jupyter.widget-view+json": {
       "model_id": "a0a786d3b2de41d992c02fe777528cd3",
       "version_major": 2,
       "version_minor": 0
      },
      "text/plain": [
       "S1A_IW_20180306T004035_DVP_RTC20_G_gpufem_E19E.zip:   0%|          | 0/1165128094 [00:00<?, ?it/s]"
      ]
     },
     "metadata": {},
     "output_type": "display_data"
    },
    {
     "data": {
      "application/vnd.jupyter.widget-view+json": {
       "model_id": "a2e74ec0774a48e580c5eb88f32c096d",
       "version_major": 2,
       "version_minor": 0
      },
      "text/plain": [
       "S1A_IW_20180622T004039_DVP_RTC20_G_gpufem_73C0.zip:   0%|          | 0/1164105060 [00:00<?, ?it/s]"
      ]
     },
     "metadata": {},
     "output_type": "display_data"
    },
    {
     "data": {
      "application/vnd.jupyter.widget-view+json": {
       "model_id": "ec2ff419fc7c4e12860b77f7f0a8361b",
       "version_major": 2,
       "version_minor": 0
      },
      "text/plain": [
       "S1A_IW_20180411T004035_DVP_RTC20_G_gpufem_0833.zip:   0%|          | 0/1165279437 [00:00<?, ?it/s]"
      ]
     },
     "metadata": {},
     "output_type": "display_data"
    },
    {
     "data": {
      "application/vnd.jupyter.widget-view+json": {
       "model_id": "44c464fc8ca4410aadc1ec74cf169892",
       "version_major": 2,
       "version_minor": 0
      },
      "text/plain": [
       "S1A_IW_20180716T004041_DVP_RTC20_G_gpufem_7F69.zip:   0%|          | 0/1162034101 [00:00<?, ?it/s]"
      ]
     },
     "metadata": {},
     "output_type": "display_data"
    },
    {
     "data": {
      "application/vnd.jupyter.widget-view+json": {
       "model_id": "55ea31da3000449a914f45217cc1abc3",
       "version_major": 2,
       "version_minor": 0
      },
      "text/plain": [
       "S1A_IW_20180330T004035_DVP_RTC20_G_gpufem_2E40.zip:   0%|          | 0/1167379870 [00:00<?, ?it/s]"
      ]
     },
     "metadata": {},
     "output_type": "display_data"
    },
    {
     "data": {
      "application/vnd.jupyter.widget-view+json": {
       "model_id": "5f06335da7f84d8582d1aec4a558e79f",
       "version_major": 2,
       "version_minor": 0
      },
      "text/plain": [
       "S1B_IW_20190903T004010_DVP_RTC20_G_gpufem_F708.zip:   0%|          | 0/1121860620 [00:00<?, ?it/s]"
      ]
     },
     "metadata": {},
     "output_type": "display_data"
    },
    {
     "data": {
      "application/vnd.jupyter.widget-view+json": {
       "model_id": "791c35d1108d44f79bc1aa12381dbc43",
       "version_major": 2,
       "version_minor": 0
      },
      "text/plain": [
       "S1B_IW_20190822T004008_DVP_RTC20_G_gpufem_0383.zip:   0%|          | 0/1122059154 [00:00<?, ?it/s]"
      ]
     },
     "metadata": {},
     "output_type": "display_data"
    },
    {
     "data": {
      "application/vnd.jupyter.widget-view+json": {
       "model_id": "4ee140b1b86b47e6804d906ff25cc1a1",
       "version_major": 2,
       "version_minor": 0
      },
      "text/plain": [
       "S1A_IW_20181020T004045_DVP_RTC20_G_gpufem_90BE.zip:   0%|          | 0/1159701895 [00:00<?, ?it/s]"
      ]
     },
     "metadata": {},
     "output_type": "display_data"
    },
    {
     "data": {
      "application/vnd.jupyter.widget-view+json": {
       "model_id": "675c1926b8304e6f8cf83151ee217186",
       "version_major": 2,
       "version_minor": 0
      },
      "text/plain": [
       "S1B_IW_20190927T004011_DVP_RTC20_G_gpufem_A58E.zip:   0%|          | 0/1120895796 [00:00<?, ?it/s]"
      ]
     },
     "metadata": {},
     "output_type": "display_data"
    },
    {
     "data": {
      "application/vnd.jupyter.widget-view+json": {
       "model_id": "0c563865fb7346af8ec04608876753ca",
       "version_major": 2,
       "version_minor": 0
      },
      "text/plain": [
       "S1B_IW_20190810T004008_DVP_RTC20_G_gpufem_26EE.zip:   0%|          | 0/1121998676 [00:00<?, ?it/s]"
      ]
     },
     "metadata": {},
     "output_type": "display_data"
    },
    {
     "data": {
      "application/vnd.jupyter.widget-view+json": {
       "model_id": "53a10201c5dd413da4900c451f8787ba",
       "version_major": 2,
       "version_minor": 0
      },
      "text/plain": [
       "S1A_IW_20190205T004041_DVP_RTC20_G_gpufem_B625.zip:   0%|          | 0/1166107659 [00:00<?, ?it/s]"
      ]
     },
     "metadata": {},
     "output_type": "display_data"
    },
    {
     "data": {
      "application/vnd.jupyter.widget-view+json": {
       "model_id": "8a8fd0e88ed74da4813d5d56938060ea",
       "version_major": 2,
       "version_minor": 0
      },
      "text/plain": [
       "S1A_IW_20180926T004044_DVP_RTC20_G_gpufem_0DFD.zip:   0%|          | 0/1162718504 [00:00<?, ?it/s]"
      ]
     },
     "metadata": {},
     "output_type": "display_data"
    },
    {
     "data": {
      "application/vnd.jupyter.widget-view+json": {
       "model_id": "c2d2a851811d4b0db75f87fdb0cb51f1",
       "version_major": 2,
       "version_minor": 0
      },
      "text/plain": [
       "S1A_IW_20180914T004044_DVP_RTC20_G_gpufem_F79F.zip:   0%|          | 0/1166362791 [00:00<?, ?it/s]"
      ]
     },
     "metadata": {},
     "output_type": "display_data"
    },
    {
     "data": {
      "application/vnd.jupyter.widget-view+json": {
       "model_id": "93375c8ff80043b380ee0d0b43fcf485",
       "version_major": 2,
       "version_minor": 0
      },
      "text/plain": [
       "S1A_IW_20180821T004043_DVP_RTC20_G_gpufem_4211.zip:   0%|          | 0/1165452278 [00:00<?, ?it/s]"
      ]
     },
     "metadata": {},
     "output_type": "display_data"
    },
    {
     "data": {
      "application/vnd.jupyter.widget-view+json": {
       "model_id": "b903c799daba4c9783a019e16c997ac3",
       "version_major": 2,
       "version_minor": 0
      },
      "text/plain": [
       "S1A_IW_20181101T004045_DVP_RTC20_G_gpufem_FB53.zip:   0%|          | 0/1159838474 [00:00<?, ?it/s]"
      ]
     },
     "metadata": {},
     "output_type": "display_data"
    },
    {
     "data": {
      "application/vnd.jupyter.widget-view+json": {
       "model_id": "ff1d8997037f487dbf95d8d40c95d515",
       "version_major": 2,
       "version_minor": 0
      },
      "text/plain": [
       "S1B_IW_20191009T004013_DVP_RTC20_G_gpufem_043D.zip:   0%|          | 0/1113550625 [00:00<?, ?it/s]"
      ]
     },
     "metadata": {},
     "output_type": "display_data"
    },
    {
     "data": {
      "application/vnd.jupyter.widget-view+json": {
       "model_id": "24901692621f4d57baf195ef20a0787c",
       "version_major": 2,
       "version_minor": 0
      },
      "text/plain": [
       "S1A_IW_20191027T004051_DVP_RTC20_G_gpufem_7325.zip:   0%|          | 0/1162120525 [00:00<?, ?it/s]"
      ]
     },
     "metadata": {},
     "output_type": "display_data"
    },
    {
     "data": {
      "application/vnd.jupyter.widget-view+json": {
       "model_id": "1142cc304c3b446db8b38ef22b5db132",
       "version_major": 2,
       "version_minor": 0
      },
      "text/plain": [
       "S1A_IW_20181008T004044_DVP_RTC20_G_gpufem_BF53.zip:   0%|          | 0/1158374443 [00:00<?, ?it/s]"
      ]
     },
     "metadata": {},
     "output_type": "display_data"
    },
    {
     "data": {
      "application/vnd.jupyter.widget-view+json": {
       "model_id": "73d95fd1a2c349b0a0b614606042272e",
       "version_major": 2,
       "version_minor": 0
      },
      "text/plain": [
       "S1A_IW_20190112T004042_DVP_RTC20_G_gpufem_9D42.zip:   0%|          | 0/1165332442 [00:00<?, ?it/s]"
      ]
     },
     "metadata": {},
     "output_type": "display_data"
    },
    {
     "data": {
      "application/vnd.jupyter.widget-view+json": {
       "model_id": "50049e32c79b4b85a265e8d80df68a5a",
       "version_major": 2,
       "version_minor": 0
      },
      "text/plain": [
       "S1B_IW_20190915T004010_DVP_RTC20_G_gpufem_15AD.zip:   0%|          | 0/1122135781 [00:00<?, ?it/s]"
      ]
     },
     "metadata": {},
     "output_type": "display_data"
    },
    {
     "data": {
      "application/vnd.jupyter.widget-view+json": {
       "model_id": "f42e70f3804a4517a5f5302d9588eb9a",
       "version_major": 2,
       "version_minor": 0
      },
      "text/plain": [
       "S1A_IW_20180902T004044_DVP_RTC20_G_gpufem_28C7.zip:   0%|          | 0/1166376418 [00:00<?, ?it/s]"
      ]
     },
     "metadata": {},
     "output_type": "display_data"
    },
    {
     "data": {
      "application/vnd.jupyter.widget-view+json": {
       "model_id": "301448cbcde24176afff7c429b351964",
       "version_major": 2,
       "version_minor": 0
      },
      "text/plain": [
       "S1B_IW_20191021T004014_DVP_RTC20_G_gpufem_EB1D.zip:   0%|          | 0/1108520570 [00:00<?, ?it/s]"
      ]
     },
     "metadata": {},
     "output_type": "display_data"
    },
    {
     "data": {
      "application/vnd.jupyter.widget-view+json": {
       "model_id": "1b93aa0f10174377a7f909a7aceebf6f",
       "version_major": 2,
       "version_minor": 0
      },
      "text/plain": [
       "S1A_IW_20181231T004043_DVP_RTC20_G_gpufem_26C0.zip:   0%|          | 0/1163699901 [00:00<?, ?it/s]"
      ]
     },
     "metadata": {},
     "output_type": "display_data"
    },
    {
     "data": {
      "application/vnd.jupyter.widget-view+json": {
       "model_id": "4974b28e69be4a30bc61602cf9e070b7",
       "version_major": 2,
       "version_minor": 0
      },
      "text/plain": [
       "S1A_IW_20190124T004042_DVP_RTC20_G_gpufem_EB22.zip:   0%|          | 0/1166415300 [00:00<?, ?it/s]"
      ]
     },
     "metadata": {},
     "output_type": "display_data"
    },
    {
     "data": {
      "application/vnd.jupyter.widget-view+json": {
       "model_id": "90c5e1297c9b4d43b7327d80960ce22c",
       "version_major": 2,
       "version_minor": 0
      },
      "text/plain": [
       "S1A_IW_20181207T004044_DVP_RTC20_G_gpufem_66E0.zip:   0%|          | 0/1160409816 [00:00<?, ?it/s]"
      ]
     },
     "metadata": {},
     "output_type": "display_data"
    },
    {
     "name": "stdout",
     "output_type": "stream",
     "text": [
      "Extracting: /home/jovyan/Hydrosar/Dataset/Kerala_short/RTC_GAMMA/S1A_IW_20180704T004040_DVP_RTC20_G_gpufem_77D5.zip\n",
      "Extracting: /home/jovyan/Hydrosar/Dataset/Kerala_short/RTC_GAMMA/S1A_IW_20180529T004038_DVP_RTC20_G_gpufem_4510.zip\n",
      "Extracting: /home/jovyan/Hydrosar/Dataset/Kerala_short/RTC_GAMMA/S1A_IW_20180610T004039_DVP_RTC20_G_gpufem_4C2F.zip\n",
      "Extracting: /home/jovyan/Hydrosar/Dataset/Kerala_short/RTC_GAMMA/S1A_IW_20180517T004037_DVP_RTC20_G_gpufem_39A8.zip\n",
      "Extracting: /home/jovyan/Hydrosar/Dataset/Kerala_short/RTC_GAMMA/S1A_IW_20180809T004042_DVP_RTC20_G_gpufem_4B41.zip\n",
      "Extracting: /home/jovyan/Hydrosar/Dataset/Kerala_short/RTC_GAMMA/S1A_IW_20180505T004036_DVP_RTC20_G_gpufem_930F.zip\n",
      "Extracting: /home/jovyan/Hydrosar/Dataset/Kerala_short/RTC_GAMMA/S1A_IW_20180728T004041_DVP_RTC20_G_gpufem_2F86.zip\n",
      "Extracting: /home/jovyan/Hydrosar/Dataset/Kerala_short/RTC_GAMMA/S1A_IW_20180318T004035_DVP_RTC20_G_gpufem_94DE.zip\n",
      "Extracting: /home/jovyan/Hydrosar/Dataset/Kerala_short/RTC_GAMMA/S1A_IW_20180423T004036_DVP_RTC20_G_gpufem_8DF5.zip\n",
      "Extracting: /home/jovyan/Hydrosar/Dataset/Kerala_short/RTC_GAMMA/S1A_IW_20180306T004035_DVP_RTC20_G_gpufem_E19E.zip\n",
      "Extracting: /home/jovyan/Hydrosar/Dataset/Kerala_short/RTC_GAMMA/S1A_IW_20180622T004039_DVP_RTC20_G_gpufem_73C0.zip\n",
      "Extracting: /home/jovyan/Hydrosar/Dataset/Kerala_short/RTC_GAMMA/S1A_IW_20180411T004035_DVP_RTC20_G_gpufem_0833.zip\n",
      "Extracting: /home/jovyan/Hydrosar/Dataset/Kerala_short/RTC_GAMMA/S1A_IW_20180716T004041_DVP_RTC20_G_gpufem_7F69.zip\n",
      "Extracting: /home/jovyan/Hydrosar/Dataset/Kerala_short/RTC_GAMMA/S1A_IW_20180330T004035_DVP_RTC20_G_gpufem_2E40.zip\n",
      "Extracting: /home/jovyan/Hydrosar/Dataset/Kerala_short/RTC_GAMMA/S1B_IW_20190903T004010_DVP_RTC20_G_gpufem_F708.zip\n",
      "Extracting: /home/jovyan/Hydrosar/Dataset/Kerala_short/RTC_GAMMA/S1B_IW_20190822T004008_DVP_RTC20_G_gpufem_0383.zip\n",
      "Extracting: /home/jovyan/Hydrosar/Dataset/Kerala_short/RTC_GAMMA/S1A_IW_20181020T004045_DVP_RTC20_G_gpufem_90BE.zip\n",
      "Extracting: /home/jovyan/Hydrosar/Dataset/Kerala_short/RTC_GAMMA/S1B_IW_20190927T004011_DVP_RTC20_G_gpufem_A58E.zip\n",
      "Extracting: /home/jovyan/Hydrosar/Dataset/Kerala_short/RTC_GAMMA/S1B_IW_20190810T004008_DVP_RTC20_G_gpufem_26EE.zip\n",
      "Extracting: /home/jovyan/Hydrosar/Dataset/Kerala_short/RTC_GAMMA/S1A_IW_20190205T004041_DVP_RTC20_G_gpufem_B625.zip\n",
      "Extracting: /home/jovyan/Hydrosar/Dataset/Kerala_short/RTC_GAMMA/S1A_IW_20180926T004044_DVP_RTC20_G_gpufem_0DFD.zip\n",
      "Extracting: /home/jovyan/Hydrosar/Dataset/Kerala_short/RTC_GAMMA/S1A_IW_20180914T004044_DVP_RTC20_G_gpufem_F79F.zip\n",
      "Extracting: /home/jovyan/Hydrosar/Dataset/Kerala_short/RTC_GAMMA/S1A_IW_20180821T004043_DVP_RTC20_G_gpufem_4211.zip\n",
      "Extracting: /home/jovyan/Hydrosar/Dataset/Kerala_short/RTC_GAMMA/S1A_IW_20181101T004045_DVP_RTC20_G_gpufem_FB53.zip\n",
      "Extracting: /home/jovyan/Hydrosar/Dataset/Kerala_short/RTC_GAMMA/S1B_IW_20191009T004013_DVP_RTC20_G_gpufem_043D.zip\n",
      "Extracting: /home/jovyan/Hydrosar/Dataset/Kerala_short/RTC_GAMMA/S1A_IW_20191027T004051_DVP_RTC20_G_gpufem_7325.zip\n",
      "Extracting: /home/jovyan/Hydrosar/Dataset/Kerala_short/RTC_GAMMA/S1A_IW_20181008T004044_DVP_RTC20_G_gpufem_BF53.zip\n",
      "Extracting: /home/jovyan/Hydrosar/Dataset/Kerala_short/RTC_GAMMA/S1A_IW_20190112T004042_DVP_RTC20_G_gpufem_9D42.zip\n",
      "Extracting: /home/jovyan/Hydrosar/Dataset/Kerala_short/RTC_GAMMA/S1B_IW_20190915T004010_DVP_RTC20_G_gpufem_15AD.zip\n",
      "Extracting: /home/jovyan/Hydrosar/Dataset/Kerala_short/RTC_GAMMA/S1A_IW_20180902T004044_DVP_RTC20_G_gpufem_28C7.zip\n",
      "Extracting: /home/jovyan/Hydrosar/Dataset/Kerala_short/RTC_GAMMA/S1B_IW_20191021T004014_DVP_RTC20_G_gpufem_EB1D.zip\n",
      "Extracting: /home/jovyan/Hydrosar/Dataset/Kerala_short/RTC_GAMMA/S1A_IW_20181231T004043_DVP_RTC20_G_gpufem_26C0.zip\n",
      "Extracting: /home/jovyan/Hydrosar/Dataset/Kerala_short/RTC_GAMMA/S1A_IW_20190124T004042_DVP_RTC20_G_gpufem_EB22.zip\n",
      "Extracting: /home/jovyan/Hydrosar/Dataset/Kerala_short/RTC_GAMMA/S1A_IW_20181207T004044_DVP_RTC20_G_gpufem_66E0.zip\n"
     ]
    }
   ],
   "source": [
    "products_path = analysis_directory.joinpath(job_type.value)\n",
    "print(products_path)\n",
    "if not products_path.is_dir():\n",
    "    products_path.mkdir()\n",
    "\n",
    "print(f\"\\nProject: {batch.jobs[0].name}\")\n",
    "project_zips = batch.download_files(products_path)\n",
    "for z in project_zips:\n",
    "    if z.suffix == '.nc':\n",
    "        continue\n",
    "    \n",
    "    asfn.asf_unzip(str(products_path), str(z))\n",
    "    z.unlink()"
   ]
  },
  {
   "cell_type": "code",
   "execution_count": 19,
   "metadata": {},
   "outputs": [],
   "source": [
    "rtc = batch.jobs[0].job_type == 'RTC_GAMMA'\n",
    "insar = batch.jobs[0].job_type == 'INSAR_GAMMA'\n",
    "autorift = batch.jobs[0].job_type == 'AUTORIFT'"
   ]
  },
  {
   "cell_type": "markdown",
   "metadata": {},
   "source": [
    "**Determine the available polarizations if downloading RTC products:**"
   ]
  },
  {
   "cell_type": "code",
   "execution_count": 20,
   "metadata": {},
   "outputs": [],
   "source": [
    "if rtc:\n",
    "    polarizations = asfn.get_RTC_polarizations(str(products_path))\n",
    "    polarization_power_set = asfn.get_power_set(polarizations)"
   ]
  },
  {
   "cell_type": "markdown",
   "metadata": {},
   "source": [
    "**Select a polarization:**"
   ]
  },
  {
   "cell_type": "code",
   "execution_count": 21,
   "metadata": {},
   "outputs": [
    {
     "data": {
      "application/vnd.jupyter.widget-view+json": {
       "model_id": "330d32766f874bf38dcc0b8448bb88e4",
       "version_major": 2,
       "version_minor": 0
      },
      "text/plain": [
       "RadioButtons(description='Polarizations:', layout=Layout(min_width='800px'), options=('VH', 'VV', 'VV and VH')…"
      ]
     },
     "metadata": {},
     "output_type": "display_data"
    }
   ],
   "source": [
    "if rtc:\n",
    "    polarization_choice = asfn.select_parameter(sorted(polarization_power_set), 'Polarizations:')\n",
    "else:\n",
    "    polarization_choice = None\n",
    "polarization_choice"
   ]
  },
  {
   "cell_type": "markdown",
   "metadata": {},
   "source": [
    "**Create a paths variable, holding the relative path to the tiffs or NetCDFs:**"
   ]
  },
  {
   "cell_type": "code",
   "execution_count": 22,
   "metadata": {},
   "outputs": [
    {
     "name": "stdout",
     "output_type": "stream",
     "text": [
      "VV and VH\n"
     ]
    }
   ],
   "source": [
    "if rtc:\n",
    "    polarization = polarization_choice.value\n",
    "    print(polarization)\n",
    "    if len(polarization) == 2:\n",
    "        regex = \"\\w[\\--~]{{5,300}}(_|-){}.(tif|tiff)$\".format(polarization)\n",
    "        dbl_polar = False\n",
    "    else:\n",
    "        regex = \"\\w[\\--~]{{5,300}}(_|-){}(v|V|h|H).(tif|tiff)$\".format(polarization[0])\n",
    "        dbl_polar = True\n",
    "elif insar:\n",
    "    regex = \"\\w*_ueF_\\w*.tif$\"\n",
    "elif autorift:\n",
    "    # regex = \"\\w*ASF_OD.nc$\"\n",
    "    regex = \"\\w*ASF_OD.*$\""
   ]
  },
  {
   "cell_type": "markdown",
   "metadata": {},
   "source": [
    "**Write functions to collect and print the paths of the tiffs or NetCDFs:**"
   ]
  },
  {
   "cell_type": "code",
   "execution_count": 23,
   "metadata": {},
   "outputs": [],
   "source": [
    "def get_product_paths(regex, pths):\n",
    "    product_paths = list()\n",
    "    paths = Path().glob(pths)\n",
    "    for pth in paths:\n",
    "        tiff_path = re.search(regex, str(pth))\n",
    "        if tiff_path:\n",
    "            product_paths.append(pth)\n",
    "    return product_paths\n",
    "\n",
    "def print_product_paths(product_paths):\n",
    "    print(\"Tiff paths:\")\n",
    "    for p in product_paths:\n",
    "        print(f\"{p}\\n\")"
   ]
  },
  {
   "cell_type": "markdown",
   "metadata": {},
   "source": [
    "**Write a function to collect the product acquisition dates:**"
   ]
  },
  {
   "cell_type": "code",
   "execution_count": 24,
   "metadata": {},
   "outputs": [],
   "source": [
    "def get_dates(product_paths):\n",
    "    dates = []\n",
    "    for pth in product_paths:\n",
    "        dates.append(asfn.date_from_product_name(str(pth)).split('T')[0])\n",
    "    return dates"
   ]
  },
  {
   "cell_type": "markdown",
   "metadata": {},
   "source": [
    "**Convert NetCDFs to geotiffs:**"
   ]
  },
  {
   "cell_type": "code",
   "execution_count": 25,
   "metadata": {},
   "outputs": [],
   "source": [
    "if autorift:\n",
    "    import xarray as xr\n",
    "    import re\n",
    "\n",
    "    def ncToGeoTiff(path):   \n",
    "        \n",
    "        prevPath = ''\n",
    "        \n",
    "        for p in path.rglob('*.nc'):            \n",
    "            \n",
    "            layers = ['v', 'vx', 'vy', 'v_error', 'vr', 'va', 'M11', 'M12']\n",
    "            fname = p.stem\n",
    "            dates = list(set(re.findall(r'\\d{8}', fname)))\n",
    "            for layer in layers:\n",
    "                layer_dir = products_path/layer\n",
    "\n",
    "                if prevPath != p: # reduces number of runs\n",
    "                    prevPath = p\n",
    "                    ds = xr.open_dataset(p)\n",
    "                                        \n",
    "                    t1 = re.findall('\\d*', ds.img_pair_info.acquisition_date_img1)\n",
    "                    acq_date_1 = f'{t1[0]}T' + ''.join(t1[2:7])\n",
    "                    \n",
    "                    t2 = re.findall('\\d*', ds.img_pair_info.acquisition_date_img2)\n",
    "                    acq_date_2 = f'{t2[0]}T' + ''.join(t2[2:7])\n",
    "   \n",
    "                \n",
    "                name = f'{fname[0:10]}_{acq_date_1}_{acq_date_2}_{fname[-6:]}_{layer}.tif'\n",
    "                outfile = layer_dir/name\n",
    "                                \n",
    "                if not layer_dir.exists():\n",
    "                    layer_dir.mkdir()\n",
    "                    \n",
    "                if not outfile.exists():\n",
    "                    !gdal_translate NETCDF:{p}:{layer} {outfile}\n",
    "            print('\\n')\n",
    " \n",
    "    def removeNC(path):\n",
    "        for p in path.rglob('*.nc'):\n",
    "            p.unlink()"
   ]
  },
  {
   "cell_type": "markdown",
   "metadata": {},
   "source": [
    "**Collect and print the paths of the tiffs or NetCDFs, and collect the paths of their DEMs:**"
   ]
  },
  {
   "cell_type": "code",
   "execution_count": 26,
   "metadata": {},
   "outputs": [
    {
     "name": "stdout",
     "output_type": "stream",
     "text": [
      "Tiff paths:\n",
      "Dataset/Kerala_short/RTC_GAMMA/S1A_IW_20180914T004044_DVP_RTC20_G_gpufem_F79F/S1A_IW_20180914T004044_DVP_RTC20_G_gpufem_F79F_VH.tif\n",
      "\n",
      "Dataset/Kerala_short/RTC_GAMMA/S1A_IW_20180914T004044_DVP_RTC20_G_gpufem_F79F/S1A_IW_20180914T004044_DVP_RTC20_G_gpufem_F79F_VV.tif\n",
      "\n",
      "Dataset/Kerala_short/RTC_GAMMA/S1A_IW_20190112T004042_DVP_RTC20_G_gpufem_9D42/S1A_IW_20190112T004042_DVP_RTC20_G_gpufem_9D42_VH.tif\n",
      "\n",
      "Dataset/Kerala_short/RTC_GAMMA/S1A_IW_20190112T004042_DVP_RTC20_G_gpufem_9D42/S1A_IW_20190112T004042_DVP_RTC20_G_gpufem_9D42_VV.tif\n",
      "\n",
      "Dataset/Kerala_short/RTC_GAMMA/S1A_IW_20180704T004040_DVP_RTC20_G_gpufem_77D5/S1A_IW_20180704T004040_DVP_RTC20_G_gpufem_77D5_VH.tif\n",
      "\n",
      "Dataset/Kerala_short/RTC_GAMMA/S1A_IW_20180704T004040_DVP_RTC20_G_gpufem_77D5/S1A_IW_20180704T004040_DVP_RTC20_G_gpufem_77D5_VV.tif\n",
      "\n",
      "Dataset/Kerala_short/RTC_GAMMA/S1A_IW_20191027T004051_DVP_RTC20_G_gpufem_7325/S1A_IW_20191027T004051_DVP_RTC20_G_gpufem_7325_VV.tif\n",
      "\n",
      "Dataset/Kerala_short/RTC_GAMMA/S1A_IW_20191027T004051_DVP_RTC20_G_gpufem_7325/S1A_IW_20191027T004051_DVP_RTC20_G_gpufem_7325_VH.tif\n",
      "\n",
      "Dataset/Kerala_short/RTC_GAMMA/S1A_IW_20180926T004044_DVP_RTC20_G_gpufem_0DFD/S1A_IW_20180926T004044_DVP_RTC20_G_gpufem_0DFD_VV.tif\n",
      "\n",
      "Dataset/Kerala_short/RTC_GAMMA/S1A_IW_20180926T004044_DVP_RTC20_G_gpufem_0DFD/S1A_IW_20180926T004044_DVP_RTC20_G_gpufem_0DFD_VH.tif\n",
      "\n",
      "Dataset/Kerala_short/RTC_GAMMA/S1A_IW_20180610T004039_DVP_RTC20_G_gpufem_4C2F/S1A_IW_20180610T004039_DVP_RTC20_G_gpufem_4C2F_VH.tif\n",
      "\n",
      "Dataset/Kerala_short/RTC_GAMMA/S1A_IW_20180610T004039_DVP_RTC20_G_gpufem_4C2F/S1A_IW_20180610T004039_DVP_RTC20_G_gpufem_4C2F_VV.tif\n",
      "\n",
      "Dataset/Kerala_short/RTC_GAMMA/S1A_IW_20180330T004035_DVP_RTC20_G_gpufem_2E40/S1A_IW_20180330T004035_DVP_RTC20_G_gpufem_2E40_VV.tif\n",
      "\n",
      "Dataset/Kerala_short/RTC_GAMMA/S1A_IW_20180330T004035_DVP_RTC20_G_gpufem_2E40/S1A_IW_20180330T004035_DVP_RTC20_G_gpufem_2E40_VH.tif\n",
      "\n",
      "Dataset/Kerala_short/RTC_GAMMA/S1A_IW_20180809T004042_DVP_RTC20_G_gpufem_4B41/S1A_IW_20180809T004042_DVP_RTC20_G_gpufem_4B41_VH.tif\n",
      "\n",
      "Dataset/Kerala_short/RTC_GAMMA/S1A_IW_20180809T004042_DVP_RTC20_G_gpufem_4B41/S1A_IW_20180809T004042_DVP_RTC20_G_gpufem_4B41_VV.tif\n",
      "\n",
      "Dataset/Kerala_short/RTC_GAMMA/S1B_IW_20190822T004008_DVP_RTC20_G_gpufem_0383/S1B_IW_20190822T004008_DVP_RTC20_G_gpufem_0383_VV.tif\n",
      "\n",
      "Dataset/Kerala_short/RTC_GAMMA/S1B_IW_20190822T004008_DVP_RTC20_G_gpufem_0383/S1B_IW_20190822T004008_DVP_RTC20_G_gpufem_0383_VH.tif\n",
      "\n",
      "Dataset/Kerala_short/RTC_GAMMA/S1A_IW_20190124T004042_DVP_RTC20_G_gpufem_EB22/S1A_IW_20190124T004042_DVP_RTC20_G_gpufem_EB22_VV.tif\n",
      "\n",
      "Dataset/Kerala_short/RTC_GAMMA/S1A_IW_20190124T004042_DVP_RTC20_G_gpufem_EB22/S1A_IW_20190124T004042_DVP_RTC20_G_gpufem_EB22_VH.tif\n",
      "\n",
      "Dataset/Kerala_short/RTC_GAMMA/S1A_IW_20190205T004041_DVP_RTC20_G_gpufem_B625/S1A_IW_20190205T004041_DVP_RTC20_G_gpufem_B625_VH.tif\n",
      "\n",
      "Dataset/Kerala_short/RTC_GAMMA/S1A_IW_20190205T004041_DVP_RTC20_G_gpufem_B625/S1A_IW_20190205T004041_DVP_RTC20_G_gpufem_B625_VV.tif\n",
      "\n",
      "Dataset/Kerala_short/RTC_GAMMA/S1B_IW_20191009T004013_DVP_RTC20_G_gpufem_043D/S1B_IW_20191009T004013_DVP_RTC20_G_gpufem_043D_VH.tif\n",
      "\n",
      "Dataset/Kerala_short/RTC_GAMMA/S1B_IW_20191009T004013_DVP_RTC20_G_gpufem_043D/S1B_IW_20191009T004013_DVP_RTC20_G_gpufem_043D_VV.tif\n",
      "\n",
      "Dataset/Kerala_short/RTC_GAMMA/S1A_IW_20180902T004044_DVP_RTC20_G_gpufem_28C7/S1A_IW_20180902T004044_DVP_RTC20_G_gpufem_28C7_VH.tif\n",
      "\n",
      "Dataset/Kerala_short/RTC_GAMMA/S1A_IW_20180902T004044_DVP_RTC20_G_gpufem_28C7/S1A_IW_20180902T004044_DVP_RTC20_G_gpufem_28C7_VV.tif\n",
      "\n",
      "Dataset/Kerala_short/RTC_GAMMA/S1A_IW_20180423T004036_DVP_RTC20_G_gpufem_8DF5/S1A_IW_20180423T004036_DVP_RTC20_G_gpufem_8DF5_VV.tif\n",
      "\n",
      "Dataset/Kerala_short/RTC_GAMMA/S1A_IW_20180423T004036_DVP_RTC20_G_gpufem_8DF5/S1A_IW_20180423T004036_DVP_RTC20_G_gpufem_8DF5_VH.tif\n",
      "\n",
      "Dataset/Kerala_short/RTC_GAMMA/S1A_IW_20181020T004045_DVP_RTC20_G_gpufem_90BE/S1A_IW_20181020T004045_DVP_RTC20_G_gpufem_90BE_VH.tif\n",
      "\n",
      "Dataset/Kerala_short/RTC_GAMMA/S1A_IW_20181020T004045_DVP_RTC20_G_gpufem_90BE/S1A_IW_20181020T004045_DVP_RTC20_G_gpufem_90BE_VV.tif\n",
      "\n",
      "Dataset/Kerala_short/RTC_GAMMA/S1B_IW_20190927T004011_DVP_RTC20_G_gpufem_A58E/S1B_IW_20190927T004011_DVP_RTC20_G_gpufem_A58E_VV.tif\n",
      "\n",
      "Dataset/Kerala_short/RTC_GAMMA/S1B_IW_20190927T004011_DVP_RTC20_G_gpufem_A58E/S1B_IW_20190927T004011_DVP_RTC20_G_gpufem_A58E_VH.tif\n",
      "\n",
      "Dataset/Kerala_short/RTC_GAMMA/S1B_IW_20190810T004008_DVP_RTC20_G_gpufem_26EE/S1B_IW_20190810T004008_DVP_RTC20_G_gpufem_26EE_VH.tif\n",
      "\n",
      "Dataset/Kerala_short/RTC_GAMMA/S1B_IW_20190810T004008_DVP_RTC20_G_gpufem_26EE/S1B_IW_20190810T004008_DVP_RTC20_G_gpufem_26EE_VV.tif\n",
      "\n",
      "Dataset/Kerala_short/RTC_GAMMA/S1B_IW_20190903T004010_DVP_RTC20_G_gpufem_F708/S1B_IW_20190903T004010_DVP_RTC20_G_gpufem_F708_VV.tif\n",
      "\n",
      "Dataset/Kerala_short/RTC_GAMMA/S1B_IW_20190903T004010_DVP_RTC20_G_gpufem_F708/S1B_IW_20190903T004010_DVP_RTC20_G_gpufem_F708_VH.tif\n",
      "\n",
      "Dataset/Kerala_short/RTC_GAMMA/S1B_IW_20190915T004010_DVP_RTC20_G_gpufem_15AD/S1B_IW_20190915T004010_DVP_RTC20_G_gpufem_15AD_VV.tif\n",
      "\n",
      "Dataset/Kerala_short/RTC_GAMMA/S1B_IW_20190915T004010_DVP_RTC20_G_gpufem_15AD/S1B_IW_20190915T004010_DVP_RTC20_G_gpufem_15AD_VH.tif\n",
      "\n",
      "Dataset/Kerala_short/RTC_GAMMA/S1A_IW_20180517T004037_DVP_RTC20_G_gpufem_39A8/S1A_IW_20180517T004037_DVP_RTC20_G_gpufem_39A8_VV.tif\n",
      "\n",
      "Dataset/Kerala_short/RTC_GAMMA/S1A_IW_20180517T004037_DVP_RTC20_G_gpufem_39A8/S1A_IW_20180517T004037_DVP_RTC20_G_gpufem_39A8_VH.tif\n",
      "\n",
      "Dataset/Kerala_short/RTC_GAMMA/S1A_IW_20181101T004045_DVP_RTC20_G_gpufem_FB53/S1A_IW_20181101T004045_DVP_RTC20_G_gpufem_FB53_VV.tif\n",
      "\n",
      "Dataset/Kerala_short/RTC_GAMMA/S1A_IW_20181101T004045_DVP_RTC20_G_gpufem_FB53/S1A_IW_20181101T004045_DVP_RTC20_G_gpufem_FB53_VH.tif\n",
      "\n",
      "Dataset/Kerala_short/RTC_GAMMA/S1A_IW_20180505T004036_DVP_RTC20_G_gpufem_930F/S1A_IW_20180505T004036_DVP_RTC20_G_gpufem_930F_VH.tif\n",
      "\n",
      "Dataset/Kerala_short/RTC_GAMMA/S1A_IW_20180505T004036_DVP_RTC20_G_gpufem_930F/S1A_IW_20180505T004036_DVP_RTC20_G_gpufem_930F_VV.tif\n",
      "\n",
      "Dataset/Kerala_short/RTC_GAMMA/S1A_IW_20180411T004035_DVP_RTC20_G_gpufem_0833/S1A_IW_20180411T004035_DVP_RTC20_G_gpufem_0833_VV.tif\n",
      "\n",
      "Dataset/Kerala_short/RTC_GAMMA/S1A_IW_20180411T004035_DVP_RTC20_G_gpufem_0833/S1A_IW_20180411T004035_DVP_RTC20_G_gpufem_0833_VH.tif\n",
      "\n",
      "Dataset/Kerala_short/RTC_GAMMA/S1A_IW_20181207T004044_DVP_RTC20_G_gpufem_66E0/S1A_IW_20181207T004044_DVP_RTC20_G_gpufem_66E0_VH.tif\n",
      "\n",
      "Dataset/Kerala_short/RTC_GAMMA/S1A_IW_20181207T004044_DVP_RTC20_G_gpufem_66E0/S1A_IW_20181207T004044_DVP_RTC20_G_gpufem_66E0_VV.tif\n",
      "\n",
      "Dataset/Kerala_short/RTC_GAMMA/S1A_IW_20181231T004043_DVP_RTC20_G_gpufem_26C0/S1A_IW_20181231T004043_DVP_RTC20_G_gpufem_26C0_VV.tif\n",
      "\n",
      "Dataset/Kerala_short/RTC_GAMMA/S1A_IW_20181231T004043_DVP_RTC20_G_gpufem_26C0/S1A_IW_20181231T004043_DVP_RTC20_G_gpufem_26C0_VH.tif\n",
      "\n",
      "Dataset/Kerala_short/RTC_GAMMA/S1B_IW_20191021T004014_DVP_RTC20_G_gpufem_EB1D/S1B_IW_20191021T004014_DVP_RTC20_G_gpufem_EB1D_VV.tif\n",
      "\n",
      "Dataset/Kerala_short/RTC_GAMMA/S1B_IW_20191021T004014_DVP_RTC20_G_gpufem_EB1D/S1B_IW_20191021T004014_DVP_RTC20_G_gpufem_EB1D_VH.tif\n",
      "\n",
      "Dataset/Kerala_short/RTC_GAMMA/S1A_IW_20180306T004035_DVP_RTC20_G_gpufem_E19E/S1A_IW_20180306T004035_DVP_RTC20_G_gpufem_E19E_VH.tif\n",
      "\n",
      "Dataset/Kerala_short/RTC_GAMMA/S1A_IW_20180306T004035_DVP_RTC20_G_gpufem_E19E/S1A_IW_20180306T004035_DVP_RTC20_G_gpufem_E19E_VV.tif\n",
      "\n",
      "Dataset/Kerala_short/RTC_GAMMA/S1A_IW_20180318T004035_DVP_RTC20_G_gpufem_94DE/S1A_IW_20180318T004035_DVP_RTC20_G_gpufem_94DE_VH.tif\n",
      "\n",
      "Dataset/Kerala_short/RTC_GAMMA/S1A_IW_20180318T004035_DVP_RTC20_G_gpufem_94DE/S1A_IW_20180318T004035_DVP_RTC20_G_gpufem_94DE_VV.tif\n",
      "\n",
      "Dataset/Kerala_short/RTC_GAMMA/S1A_IW_20180821T004043_DVP_RTC20_G_gpufem_4211/S1A_IW_20180821T004043_DVP_RTC20_G_gpufem_4211_VV.tif\n",
      "\n",
      "Dataset/Kerala_short/RTC_GAMMA/S1A_IW_20180821T004043_DVP_RTC20_G_gpufem_4211/S1A_IW_20180821T004043_DVP_RTC20_G_gpufem_4211_VH.tif\n",
      "\n",
      "Dataset/Kerala_short/RTC_GAMMA/S1A_IW_20180716T004041_DVP_RTC20_G_gpufem_7F69/S1A_IW_20180716T004041_DVP_RTC20_G_gpufem_7F69_VH.tif\n",
      "\n",
      "Dataset/Kerala_short/RTC_GAMMA/S1A_IW_20180716T004041_DVP_RTC20_G_gpufem_7F69/S1A_IW_20180716T004041_DVP_RTC20_G_gpufem_7F69_VV.tif\n",
      "\n",
      "Dataset/Kerala_short/RTC_GAMMA/S1A_IW_20181008T004044_DVP_RTC20_G_gpufem_BF53/S1A_IW_20181008T004044_DVP_RTC20_G_gpufem_BF53_VV.tif\n",
      "\n",
      "Dataset/Kerala_short/RTC_GAMMA/S1A_IW_20181008T004044_DVP_RTC20_G_gpufem_BF53/S1A_IW_20181008T004044_DVP_RTC20_G_gpufem_BF53_VH.tif\n",
      "\n",
      "Dataset/Kerala_short/RTC_GAMMA/S1A_IW_20180529T004038_DVP_RTC20_G_gpufem_4510/S1A_IW_20180529T004038_DVP_RTC20_G_gpufem_4510_VH.tif\n",
      "\n",
      "Dataset/Kerala_short/RTC_GAMMA/S1A_IW_20180529T004038_DVP_RTC20_G_gpufem_4510/S1A_IW_20180529T004038_DVP_RTC20_G_gpufem_4510_VV.tif\n",
      "\n",
      "Dataset/Kerala_short/RTC_GAMMA/S1A_IW_20180728T004041_DVP_RTC20_G_gpufem_2F86/S1A_IW_20180728T004041_DVP_RTC20_G_gpufem_2F86_VV.tif\n",
      "\n",
      "Dataset/Kerala_short/RTC_GAMMA/S1A_IW_20180728T004041_DVP_RTC20_G_gpufem_2F86/S1A_IW_20180728T004041_DVP_RTC20_G_gpufem_2F86_VH.tif\n",
      "\n",
      "Dataset/Kerala_short/RTC_GAMMA/S1A_IW_20180622T004039_DVP_RTC20_G_gpufem_73C0/S1A_IW_20180622T004039_DVP_RTC20_G_gpufem_73C0_VH.tif\n",
      "\n",
      "Dataset/Kerala_short/RTC_GAMMA/S1A_IW_20180622T004039_DVP_RTC20_G_gpufem_73C0/S1A_IW_20180622T004039_DVP_RTC20_G_gpufem_73C0_VV.tif\n",
      "\n"
     ]
    }
   ],
   "source": [
    "rel_prod_path = products_path.relative_to(Path.cwd())\n",
    "if rtc:\n",
    "    product_pth = f\"{str(rel_prod_path)}/*/*{polarization[0]}*.tif*\"\n",
    "elif insar:\n",
    "    product_pth = f\"{str(rel_prod_path)}/*/*.tif*\"\n",
    "elif autorift:\n",
    "    product_pth = f\"{str(rel_prod_path)}/*.tif*\"    \n",
    "    ncToGeoTiff(products_path)\n",
    "    removeNC(products_path)\n",
    "\n",
    "dems_pth = f\"{str(rel_prod_path)}/*/*dem.tif*\"\n",
    "\n",
    "if not autorift:\n",
    "    product_paths = get_product_paths(regex, product_pth)\n",
    "    print_product_paths(product_paths)\n",
    "else:\n",
    "    print('Tiff paths:\\n')\n",
    "    \n",
    "    for p in products_path.glob('*'):\n",
    "        print(f'{p.parts[-1]}:')\n",
    "        \n",
    "        for p_tiff in p.rglob('*.tif'):\n",
    "            print(p_tiff)\n",
    "        \n",
    "        print('\\n')\n",
    "        \n",
    "# Get all paths for files ending with 'dem'\n",
    "dem_paths = get_product_paths(r'dem.tif$', dems_pth)"
   ]
  },
  {
   "cell_type": "markdown",
   "metadata": {},
   "source": [
    "if autorift:\n",
    "    - convert to geotiff\n",
    "    - delete netcdfs\n",
    "    - re-glob paths for geotiffs"
   ]
  },
  {
   "cell_type": "markdown",
   "metadata": {},
   "source": [
    "---\n",
    "## 1.2 Fix multiple UTM Zone-related issues\n",
    "\n",
    "Fix multiple UTM Zone-related issues should they exist in your data set. If multiple UTM zones are found, the following code cells will identify the predominant UTM zone and reproject the rest into that zone. This step must be completed prior to merging frames or performing any analysis. AutoRIFT products do not come with projection metadata and so will not be reprojected.\n",
    "\n",
    "**Use gdal.Info to determine the UTM definition types and zones in each product:**"
   ]
  },
  {
   "cell_type": "code",
   "execution_count": 27,
   "metadata": {},
   "outputs": [],
   "source": [
    "if not autorift:\n",
    "    coord_choice = asfn.select_parameter([\"UTM\", \"Lat/Long\"], description='Coord Systems:')\n",
    "    coord_choice"
   ]
  },
  {
   "cell_type": "code",
   "execution_count": 28,
   "metadata": {},
   "outputs": [
    {
     "name": "stdout",
     "output_type": "stream",
     "text": [
      "Checking UTM Zones in the data stack ...\n",
      "\n",
      "UTM Zones:\n",
      " ['32643', '32643', '32643', '32643', '32643', '32643', '32643', '32643', '32643', '32643', '32643', '32643', '32643', '32643', '32643', '32643', '32643', '32643', '32643', '32643', '32643', '32643', '32643', '32643', '32643', '32643', '32643', '32643', '32643', '32643', '32643', '32643', '32643', '32643', '32643', '32643', '32643', '32643', '32643', '32643', '32643', '32643', '32643', '32643', '32643', '32643', '32643', '32643', '32643', '32643', '32643', '32643', '32643', '32643', '32643', '32643', '32643', '32643', '32643', '32643', '32643', '32643', '32643', '32643', '32643', '32643', '32643', '32643']\n",
      "\n",
      "UTM Types:\n",
      " ['EPSG', 'EPSG', 'EPSG', 'EPSG', 'EPSG', 'EPSG', 'EPSG', 'EPSG', 'EPSG', 'EPSG', 'EPSG', 'EPSG', 'EPSG', 'EPSG', 'EPSG', 'EPSG', 'EPSG', 'EPSG', 'EPSG', 'EPSG', 'EPSG', 'EPSG', 'EPSG', 'EPSG', 'EPSG', 'EPSG', 'EPSG', 'EPSG', 'EPSG', 'EPSG', 'EPSG', 'EPSG', 'EPSG', 'EPSG', 'EPSG', 'EPSG', 'EPSG', 'EPSG', 'EPSG', 'EPSG', 'EPSG', 'EPSG', 'EPSG', 'EPSG', 'EPSG', 'EPSG', 'EPSG', 'EPSG', 'EPSG', 'EPSG', 'EPSG', 'EPSG', 'EPSG', 'EPSG', 'EPSG', 'EPSG', 'EPSG', 'EPSG', 'EPSG', 'EPSG', 'EPSG', 'EPSG', 'EPSG', 'EPSG', 'EPSG', 'EPSG', 'EPSG', 'EPSG']\n"
     ]
    },
    {
     "name": "stderr",
     "output_type": "stream",
     "text": [
      "/home/jovyan/.local/envs/rtc_analysis/lib/python3.9/site-packages/osgeo/gdal.py:287: FutureWarning: Neither gdal.UseExceptions() nor gdal.DontUseExceptions() has been explicitly called. In GDAL 4.0, exceptions will be enabled by default.\n",
      "  warnings.warn(\n"
     ]
    }
   ],
   "source": [
    "if not autorift:\n",
    "    utm_zones = []\n",
    "    utm_types = []\n",
    "    print('Checking UTM Zones in the data stack ...\\n')\n",
    "    for k in range(0, len(product_paths)):\n",
    "        info = (gdal.Info(str(product_paths[k]), options = ['-json']))\n",
    "        info = json.dumps(info)\n",
    "        info = (json.loads(info))['coordinateSystem']['wkt']\n",
    "        zone = info.split('ID')[-1].split(',')[1][0:-2]\n",
    "        utm_zones.append(zone)\n",
    "        typ = info.split('ID')[-1].split('\"')[1]\n",
    "        utm_types.append(typ)\n",
    "    print(f\"UTM Zones:\\n {utm_zones}\\n\")\n",
    "    print(f\"UTM Types:\\n {utm_types}\")"
   ]
  },
  {
   "cell_type": "markdown",
   "metadata": {},
   "source": [
    "**Identify the most commonly used UTM Zone in the data:**"
   ]
  },
  {
   "cell_type": "code",
   "execution_count": 29,
   "metadata": {},
   "outputs": [
    {
     "name": "stdout",
     "output_type": "stream",
     "text": [
      "Predominant UTM Zone: 32643\n"
     ]
    }
   ],
   "source": [
    "if not autorift:\n",
    "    if coord_choice.value == 'UTM':\n",
    "        utm_unique, counts = np.unique(utm_zones, return_counts=True)\n",
    "        a = np.where(counts == np.max(counts))\n",
    "        predominant_utm = utm_unique[a][0]\n",
    "        print(f\"Predominant UTM Zone: {predominant_utm}\")\n",
    "    else:\n",
    "        predominant_utm = '4326'"
   ]
  },
  {
   "cell_type": "code",
   "execution_count": 30,
   "metadata": {},
   "outputs": [
    {
     "data": {
      "text/plain": [
       "[PosixPath('Dataset/Kerala_short/RTC_GAMMA/S1A_IW_20180914T004044_DVP_RTC20_G_gpufem_F79F/S1A_IW_20180914T004044_DVP_RTC20_G_gpufem_F79F_dem.tif'),\n",
       " PosixPath('Dataset/Kerala_short/RTC_GAMMA/S1A_IW_20190112T004042_DVP_RTC20_G_gpufem_9D42/S1A_IW_20190112T004042_DVP_RTC20_G_gpufem_9D42_dem.tif'),\n",
       " PosixPath('Dataset/Kerala_short/RTC_GAMMA/S1A_IW_20180704T004040_DVP_RTC20_G_gpufem_77D5/S1A_IW_20180704T004040_DVP_RTC20_G_gpufem_77D5_dem.tif'),\n",
       " PosixPath('Dataset/Kerala_short/RTC_GAMMA/S1A_IW_20191027T004051_DVP_RTC20_G_gpufem_7325/S1A_IW_20191027T004051_DVP_RTC20_G_gpufem_7325_dem.tif'),\n",
       " PosixPath('Dataset/Kerala_short/RTC_GAMMA/S1A_IW_20180926T004044_DVP_RTC20_G_gpufem_0DFD/S1A_IW_20180926T004044_DVP_RTC20_G_gpufem_0DFD_dem.tif'),\n",
       " PosixPath('Dataset/Kerala_short/RTC_GAMMA/S1A_IW_20180610T004039_DVP_RTC20_G_gpufem_4C2F/S1A_IW_20180610T004039_DVP_RTC20_G_gpufem_4C2F_dem.tif'),\n",
       " PosixPath('Dataset/Kerala_short/RTC_GAMMA/S1A_IW_20180330T004035_DVP_RTC20_G_gpufem_2E40/S1A_IW_20180330T004035_DVP_RTC20_G_gpufem_2E40_dem.tif'),\n",
       " PosixPath('Dataset/Kerala_short/RTC_GAMMA/S1A_IW_20180809T004042_DVP_RTC20_G_gpufem_4B41/S1A_IW_20180809T004042_DVP_RTC20_G_gpufem_4B41_dem.tif'),\n",
       " PosixPath('Dataset/Kerala_short/RTC_GAMMA/S1B_IW_20190822T004008_DVP_RTC20_G_gpufem_0383/S1B_IW_20190822T004008_DVP_RTC20_G_gpufem_0383_dem.tif'),\n",
       " PosixPath('Dataset/Kerala_short/RTC_GAMMA/S1A_IW_20190124T004042_DVP_RTC20_G_gpufem_EB22/S1A_IW_20190124T004042_DVP_RTC20_G_gpufem_EB22_dem.tif'),\n",
       " PosixPath('Dataset/Kerala_short/RTC_GAMMA/S1A_IW_20190205T004041_DVP_RTC20_G_gpufem_B625/S1A_IW_20190205T004041_DVP_RTC20_G_gpufem_B625_dem.tif'),\n",
       " PosixPath('Dataset/Kerala_short/RTC_GAMMA/S1B_IW_20191009T004013_DVP_RTC20_G_gpufem_043D/S1B_IW_20191009T004013_DVP_RTC20_G_gpufem_043D_dem.tif'),\n",
       " PosixPath('Dataset/Kerala_short/RTC_GAMMA/S1A_IW_20180902T004044_DVP_RTC20_G_gpufem_28C7/S1A_IW_20180902T004044_DVP_RTC20_G_gpufem_28C7_dem.tif'),\n",
       " PosixPath('Dataset/Kerala_short/RTC_GAMMA/S1A_IW_20180423T004036_DVP_RTC20_G_gpufem_8DF5/S1A_IW_20180423T004036_DVP_RTC20_G_gpufem_8DF5_dem.tif'),\n",
       " PosixPath('Dataset/Kerala_short/RTC_GAMMA/S1A_IW_20181020T004045_DVP_RTC20_G_gpufem_90BE/S1A_IW_20181020T004045_DVP_RTC20_G_gpufem_90BE_dem.tif'),\n",
       " PosixPath('Dataset/Kerala_short/RTC_GAMMA/S1B_IW_20190927T004011_DVP_RTC20_G_gpufem_A58E/S1B_IW_20190927T004011_DVP_RTC20_G_gpufem_A58E_dem.tif'),\n",
       " PosixPath('Dataset/Kerala_short/RTC_GAMMA/S1B_IW_20190810T004008_DVP_RTC20_G_gpufem_26EE/S1B_IW_20190810T004008_DVP_RTC20_G_gpufem_26EE_dem.tif'),\n",
       " PosixPath('Dataset/Kerala_short/RTC_GAMMA/S1B_IW_20190903T004010_DVP_RTC20_G_gpufem_F708/S1B_IW_20190903T004010_DVP_RTC20_G_gpufem_F708_dem.tif'),\n",
       " PosixPath('Dataset/Kerala_short/RTC_GAMMA/S1B_IW_20190915T004010_DVP_RTC20_G_gpufem_15AD/S1B_IW_20190915T004010_DVP_RTC20_G_gpufem_15AD_dem.tif'),\n",
       " PosixPath('Dataset/Kerala_short/RTC_GAMMA/S1A_IW_20180517T004037_DVP_RTC20_G_gpufem_39A8/S1A_IW_20180517T004037_DVP_RTC20_G_gpufem_39A8_dem.tif'),\n",
       " PosixPath('Dataset/Kerala_short/RTC_GAMMA/S1A_IW_20181101T004045_DVP_RTC20_G_gpufem_FB53/S1A_IW_20181101T004045_DVP_RTC20_G_gpufem_FB53_dem.tif'),\n",
       " PosixPath('Dataset/Kerala_short/RTC_GAMMA/S1A_IW_20180505T004036_DVP_RTC20_G_gpufem_930F/S1A_IW_20180505T004036_DVP_RTC20_G_gpufem_930F_dem.tif'),\n",
       " PosixPath('Dataset/Kerala_short/RTC_GAMMA/S1A_IW_20180411T004035_DVP_RTC20_G_gpufem_0833/S1A_IW_20180411T004035_DVP_RTC20_G_gpufem_0833_dem.tif'),\n",
       " PosixPath('Dataset/Kerala_short/RTC_GAMMA/S1A_IW_20181207T004044_DVP_RTC20_G_gpufem_66E0/S1A_IW_20181207T004044_DVP_RTC20_G_gpufem_66E0_dem.tif'),\n",
       " PosixPath('Dataset/Kerala_short/RTC_GAMMA/S1A_IW_20181231T004043_DVP_RTC20_G_gpufem_26C0/S1A_IW_20181231T004043_DVP_RTC20_G_gpufem_26C0_dem.tif'),\n",
       " PosixPath('Dataset/Kerala_short/RTC_GAMMA/S1B_IW_20191021T004014_DVP_RTC20_G_gpufem_EB1D/S1B_IW_20191021T004014_DVP_RTC20_G_gpufem_EB1D_dem.tif'),\n",
       " PosixPath('Dataset/Kerala_short/RTC_GAMMA/S1A_IW_20180306T004035_DVP_RTC20_G_gpufem_E19E/S1A_IW_20180306T004035_DVP_RTC20_G_gpufem_E19E_dem.tif'),\n",
       " PosixPath('Dataset/Kerala_short/RTC_GAMMA/S1A_IW_20180318T004035_DVP_RTC20_G_gpufem_94DE/S1A_IW_20180318T004035_DVP_RTC20_G_gpufem_94DE_dem.tif'),\n",
       " PosixPath('Dataset/Kerala_short/RTC_GAMMA/S1A_IW_20180821T004043_DVP_RTC20_G_gpufem_4211/S1A_IW_20180821T004043_DVP_RTC20_G_gpufem_4211_dem.tif'),\n",
       " PosixPath('Dataset/Kerala_short/RTC_GAMMA/S1A_IW_20180716T004041_DVP_RTC20_G_gpufem_7F69/S1A_IW_20180716T004041_DVP_RTC20_G_gpufem_7F69_dem.tif'),\n",
       " PosixPath('Dataset/Kerala_short/RTC_GAMMA/S1A_IW_20181008T004044_DVP_RTC20_G_gpufem_BF53/S1A_IW_20181008T004044_DVP_RTC20_G_gpufem_BF53_dem.tif'),\n",
       " PosixPath('Dataset/Kerala_short/RTC_GAMMA/S1A_IW_20180529T004038_DVP_RTC20_G_gpufem_4510/S1A_IW_20180529T004038_DVP_RTC20_G_gpufem_4510_dem.tif'),\n",
       " PosixPath('Dataset/Kerala_short/RTC_GAMMA/S1A_IW_20180728T004041_DVP_RTC20_G_gpufem_2F86/S1A_IW_20180728T004041_DVP_RTC20_G_gpufem_2F86_dem.tif'),\n",
       " PosixPath('Dataset/Kerala_short/RTC_GAMMA/S1A_IW_20180622T004039_DVP_RTC20_G_gpufem_73C0/S1A_IW_20180622T004039_DVP_RTC20_G_gpufem_73C0_dem.tif')]"
      ]
     },
     "execution_count": 30,
     "metadata": {},
     "output_type": "execute_result"
    }
   ],
   "source": [
    "dem_paths"
   ]
  },
  {
   "cell_type": "markdown",
   "metadata": {},
   "source": [
    "**Reproject all tiffs to the predominate UTM:**"
   ]
  },
  {
   "cell_type": "code",
   "execution_count": 31,
   "metadata": {},
   "outputs": [
    {
     "name": "stdout",
     "output_type": "stream",
     "text": [
      "--------------------------------------------\n",
      "Reprojecting  0.0 files\n",
      "--------------------------------------------\n"
     ]
    }
   ],
   "source": [
    "if not autorift:\n",
    "    # Reproject (if needed) and Mosaic DEM Files in Preparation for Subsequent HAND Calculation\n",
    "    # print(DEM_paths)\n",
    "    reproject_indicies = [i for i, j in enumerate(utm_zones) if j != predominant_utm] #makes list of indicies in utm_zones that need to be reprojected\n",
    "    print('--------------------------------------------')\n",
    "    print('Reprojecting %4.1f files' %(len(reproject_indicies)))\n",
    "    print('--------------------------------------------')\n",
    "    for k in reproject_indicies:\n",
    "        temppath = f\"{str(product_paths[k].parent)}/r{product_paths[k].name}\"\n",
    "        temppath_dem = f\"{str(dem_paths[k].parent)}/r{dem_paths[k].name}\"\n",
    "        print(temppath)  \n",
    "\n",
    "        cmd = f\"gdalwarp -overwrite {product_paths[k]} {temppath} -s_srs {utm_types[k]}:{utm_zones[k]} -t_srs EPSG:{predominant_utm}\"\n",
    "    #     print(cmd)\n",
    "        !{cmd}\n",
    "        \n",
    "        cmd = f\"gdalwarp -overwrite {dem_paths[k]} {temppath_dem} -s_srs {utm_types[k]}:{utm_zones[k]} -t_srs EPSG:{predominant_utm}\"\n",
    "    #     print(cmd)\n",
    "        !{cmd}\n",
    "\n",
    "        product_paths[k].unlink()\n",
    "        dem_paths[k].unlink()"
   ]
  },
  {
   "cell_type": "markdown",
   "metadata": {},
   "source": [
    "**Update product_paths with any new filenames created during reprojection:**"
   ]
  },
  {
   "cell_type": "code",
   "execution_count": 32,
   "metadata": {},
   "outputs": [
    {
     "name": "stdout",
     "output_type": "stream",
     "text": [
      "Tiff paths:\n",
      "Dataset/Kerala_short/RTC_GAMMA/S1A_IW_20180914T004044_DVP_RTC20_G_gpufem_F79F/S1A_IW_20180914T004044_DVP_RTC20_G_gpufem_F79F_VH.tif\n",
      "\n",
      "Dataset/Kerala_short/RTC_GAMMA/S1A_IW_20180914T004044_DVP_RTC20_G_gpufem_F79F/S1A_IW_20180914T004044_DVP_RTC20_G_gpufem_F79F_VV.tif\n",
      "\n",
      "Dataset/Kerala_short/RTC_GAMMA/S1A_IW_20190112T004042_DVP_RTC20_G_gpufem_9D42/S1A_IW_20190112T004042_DVP_RTC20_G_gpufem_9D42_VH.tif\n",
      "\n",
      "Dataset/Kerala_short/RTC_GAMMA/S1A_IW_20190112T004042_DVP_RTC20_G_gpufem_9D42/S1A_IW_20190112T004042_DVP_RTC20_G_gpufem_9D42_VV.tif\n",
      "\n",
      "Dataset/Kerala_short/RTC_GAMMA/S1A_IW_20180704T004040_DVP_RTC20_G_gpufem_77D5/S1A_IW_20180704T004040_DVP_RTC20_G_gpufem_77D5_VH.tif\n",
      "\n",
      "Dataset/Kerala_short/RTC_GAMMA/S1A_IW_20180704T004040_DVP_RTC20_G_gpufem_77D5/S1A_IW_20180704T004040_DVP_RTC20_G_gpufem_77D5_VV.tif\n",
      "\n",
      "Dataset/Kerala_short/RTC_GAMMA/S1A_IW_20191027T004051_DVP_RTC20_G_gpufem_7325/S1A_IW_20191027T004051_DVP_RTC20_G_gpufem_7325_VV.tif\n",
      "\n",
      "Dataset/Kerala_short/RTC_GAMMA/S1A_IW_20191027T004051_DVP_RTC20_G_gpufem_7325/S1A_IW_20191027T004051_DVP_RTC20_G_gpufem_7325_VH.tif\n",
      "\n",
      "Dataset/Kerala_short/RTC_GAMMA/S1A_IW_20180926T004044_DVP_RTC20_G_gpufem_0DFD/S1A_IW_20180926T004044_DVP_RTC20_G_gpufem_0DFD_VV.tif\n",
      "\n",
      "Dataset/Kerala_short/RTC_GAMMA/S1A_IW_20180926T004044_DVP_RTC20_G_gpufem_0DFD/S1A_IW_20180926T004044_DVP_RTC20_G_gpufem_0DFD_VH.tif\n",
      "\n",
      "Dataset/Kerala_short/RTC_GAMMA/S1A_IW_20180610T004039_DVP_RTC20_G_gpufem_4C2F/S1A_IW_20180610T004039_DVP_RTC20_G_gpufem_4C2F_VH.tif\n",
      "\n",
      "Dataset/Kerala_short/RTC_GAMMA/S1A_IW_20180610T004039_DVP_RTC20_G_gpufem_4C2F/S1A_IW_20180610T004039_DVP_RTC20_G_gpufem_4C2F_VV.tif\n",
      "\n",
      "Dataset/Kerala_short/RTC_GAMMA/S1A_IW_20180330T004035_DVP_RTC20_G_gpufem_2E40/S1A_IW_20180330T004035_DVP_RTC20_G_gpufem_2E40_VV.tif\n",
      "\n",
      "Dataset/Kerala_short/RTC_GAMMA/S1A_IW_20180330T004035_DVP_RTC20_G_gpufem_2E40/S1A_IW_20180330T004035_DVP_RTC20_G_gpufem_2E40_VH.tif\n",
      "\n",
      "Dataset/Kerala_short/RTC_GAMMA/S1A_IW_20180809T004042_DVP_RTC20_G_gpufem_4B41/S1A_IW_20180809T004042_DVP_RTC20_G_gpufem_4B41_VH.tif\n",
      "\n",
      "Dataset/Kerala_short/RTC_GAMMA/S1A_IW_20180809T004042_DVP_RTC20_G_gpufem_4B41/S1A_IW_20180809T004042_DVP_RTC20_G_gpufem_4B41_VV.tif\n",
      "\n",
      "Dataset/Kerala_short/RTC_GAMMA/S1B_IW_20190822T004008_DVP_RTC20_G_gpufem_0383/S1B_IW_20190822T004008_DVP_RTC20_G_gpufem_0383_VV.tif\n",
      "\n",
      "Dataset/Kerala_short/RTC_GAMMA/S1B_IW_20190822T004008_DVP_RTC20_G_gpufem_0383/S1B_IW_20190822T004008_DVP_RTC20_G_gpufem_0383_VH.tif\n",
      "\n",
      "Dataset/Kerala_short/RTC_GAMMA/S1A_IW_20190124T004042_DVP_RTC20_G_gpufem_EB22/S1A_IW_20190124T004042_DVP_RTC20_G_gpufem_EB22_VV.tif\n",
      "\n",
      "Dataset/Kerala_short/RTC_GAMMA/S1A_IW_20190124T004042_DVP_RTC20_G_gpufem_EB22/S1A_IW_20190124T004042_DVP_RTC20_G_gpufem_EB22_VH.tif\n",
      "\n",
      "Dataset/Kerala_short/RTC_GAMMA/S1A_IW_20190205T004041_DVP_RTC20_G_gpufem_B625/S1A_IW_20190205T004041_DVP_RTC20_G_gpufem_B625_VH.tif\n",
      "\n",
      "Dataset/Kerala_short/RTC_GAMMA/S1A_IW_20190205T004041_DVP_RTC20_G_gpufem_B625/S1A_IW_20190205T004041_DVP_RTC20_G_gpufem_B625_VV.tif\n",
      "\n",
      "Dataset/Kerala_short/RTC_GAMMA/S1B_IW_20191009T004013_DVP_RTC20_G_gpufem_043D/S1B_IW_20191009T004013_DVP_RTC20_G_gpufem_043D_VH.tif\n",
      "\n",
      "Dataset/Kerala_short/RTC_GAMMA/S1B_IW_20191009T004013_DVP_RTC20_G_gpufem_043D/S1B_IW_20191009T004013_DVP_RTC20_G_gpufem_043D_VV.tif\n",
      "\n",
      "Dataset/Kerala_short/RTC_GAMMA/S1A_IW_20180902T004044_DVP_RTC20_G_gpufem_28C7/S1A_IW_20180902T004044_DVP_RTC20_G_gpufem_28C7_VH.tif\n",
      "\n",
      "Dataset/Kerala_short/RTC_GAMMA/S1A_IW_20180902T004044_DVP_RTC20_G_gpufem_28C7/S1A_IW_20180902T004044_DVP_RTC20_G_gpufem_28C7_VV.tif\n",
      "\n",
      "Dataset/Kerala_short/RTC_GAMMA/S1A_IW_20180423T004036_DVP_RTC20_G_gpufem_8DF5/S1A_IW_20180423T004036_DVP_RTC20_G_gpufem_8DF5_VV.tif\n",
      "\n",
      "Dataset/Kerala_short/RTC_GAMMA/S1A_IW_20180423T004036_DVP_RTC20_G_gpufem_8DF5/S1A_IW_20180423T004036_DVP_RTC20_G_gpufem_8DF5_VH.tif\n",
      "\n",
      "Dataset/Kerala_short/RTC_GAMMA/S1A_IW_20181020T004045_DVP_RTC20_G_gpufem_90BE/S1A_IW_20181020T004045_DVP_RTC20_G_gpufem_90BE_VH.tif\n",
      "\n",
      "Dataset/Kerala_short/RTC_GAMMA/S1A_IW_20181020T004045_DVP_RTC20_G_gpufem_90BE/S1A_IW_20181020T004045_DVP_RTC20_G_gpufem_90BE_VV.tif\n",
      "\n",
      "Dataset/Kerala_short/RTC_GAMMA/S1B_IW_20190927T004011_DVP_RTC20_G_gpufem_A58E/S1B_IW_20190927T004011_DVP_RTC20_G_gpufem_A58E_VV.tif\n",
      "\n",
      "Dataset/Kerala_short/RTC_GAMMA/S1B_IW_20190927T004011_DVP_RTC20_G_gpufem_A58E/S1B_IW_20190927T004011_DVP_RTC20_G_gpufem_A58E_VH.tif\n",
      "\n",
      "Dataset/Kerala_short/RTC_GAMMA/S1B_IW_20190810T004008_DVP_RTC20_G_gpufem_26EE/S1B_IW_20190810T004008_DVP_RTC20_G_gpufem_26EE_VH.tif\n",
      "\n",
      "Dataset/Kerala_short/RTC_GAMMA/S1B_IW_20190810T004008_DVP_RTC20_G_gpufem_26EE/S1B_IW_20190810T004008_DVP_RTC20_G_gpufem_26EE_VV.tif\n",
      "\n",
      "Dataset/Kerala_short/RTC_GAMMA/S1B_IW_20190903T004010_DVP_RTC20_G_gpufem_F708/S1B_IW_20190903T004010_DVP_RTC20_G_gpufem_F708_VV.tif\n",
      "\n",
      "Dataset/Kerala_short/RTC_GAMMA/S1B_IW_20190903T004010_DVP_RTC20_G_gpufem_F708/S1B_IW_20190903T004010_DVP_RTC20_G_gpufem_F708_VH.tif\n",
      "\n",
      "Dataset/Kerala_short/RTC_GAMMA/S1B_IW_20190915T004010_DVP_RTC20_G_gpufem_15AD/S1B_IW_20190915T004010_DVP_RTC20_G_gpufem_15AD_VV.tif\n",
      "\n",
      "Dataset/Kerala_short/RTC_GAMMA/S1B_IW_20190915T004010_DVP_RTC20_G_gpufem_15AD/S1B_IW_20190915T004010_DVP_RTC20_G_gpufem_15AD_VH.tif\n",
      "\n",
      "Dataset/Kerala_short/RTC_GAMMA/S1A_IW_20180517T004037_DVP_RTC20_G_gpufem_39A8/S1A_IW_20180517T004037_DVP_RTC20_G_gpufem_39A8_VV.tif\n",
      "\n",
      "Dataset/Kerala_short/RTC_GAMMA/S1A_IW_20180517T004037_DVP_RTC20_G_gpufem_39A8/S1A_IW_20180517T004037_DVP_RTC20_G_gpufem_39A8_VH.tif\n",
      "\n",
      "Dataset/Kerala_short/RTC_GAMMA/S1A_IW_20181101T004045_DVP_RTC20_G_gpufem_FB53/S1A_IW_20181101T004045_DVP_RTC20_G_gpufem_FB53_VV.tif\n",
      "\n",
      "Dataset/Kerala_short/RTC_GAMMA/S1A_IW_20181101T004045_DVP_RTC20_G_gpufem_FB53/S1A_IW_20181101T004045_DVP_RTC20_G_gpufem_FB53_VH.tif\n",
      "\n",
      "Dataset/Kerala_short/RTC_GAMMA/S1A_IW_20180505T004036_DVP_RTC20_G_gpufem_930F/S1A_IW_20180505T004036_DVP_RTC20_G_gpufem_930F_VH.tif\n",
      "\n",
      "Dataset/Kerala_short/RTC_GAMMA/S1A_IW_20180505T004036_DVP_RTC20_G_gpufem_930F/S1A_IW_20180505T004036_DVP_RTC20_G_gpufem_930F_VV.tif\n",
      "\n",
      "Dataset/Kerala_short/RTC_GAMMA/S1A_IW_20180411T004035_DVP_RTC20_G_gpufem_0833/S1A_IW_20180411T004035_DVP_RTC20_G_gpufem_0833_VV.tif\n",
      "\n",
      "Dataset/Kerala_short/RTC_GAMMA/S1A_IW_20180411T004035_DVP_RTC20_G_gpufem_0833/S1A_IW_20180411T004035_DVP_RTC20_G_gpufem_0833_VH.tif\n",
      "\n",
      "Dataset/Kerala_short/RTC_GAMMA/S1A_IW_20181207T004044_DVP_RTC20_G_gpufem_66E0/S1A_IW_20181207T004044_DVP_RTC20_G_gpufem_66E0_VH.tif\n",
      "\n",
      "Dataset/Kerala_short/RTC_GAMMA/S1A_IW_20181207T004044_DVP_RTC20_G_gpufem_66E0/S1A_IW_20181207T004044_DVP_RTC20_G_gpufem_66E0_VV.tif\n",
      "\n",
      "Dataset/Kerala_short/RTC_GAMMA/S1A_IW_20181231T004043_DVP_RTC20_G_gpufem_26C0/S1A_IW_20181231T004043_DVP_RTC20_G_gpufem_26C0_VV.tif\n",
      "\n",
      "Dataset/Kerala_short/RTC_GAMMA/S1A_IW_20181231T004043_DVP_RTC20_G_gpufem_26C0/S1A_IW_20181231T004043_DVP_RTC20_G_gpufem_26C0_VH.tif\n",
      "\n",
      "Dataset/Kerala_short/RTC_GAMMA/S1B_IW_20191021T004014_DVP_RTC20_G_gpufem_EB1D/S1B_IW_20191021T004014_DVP_RTC20_G_gpufem_EB1D_VV.tif\n",
      "\n",
      "Dataset/Kerala_short/RTC_GAMMA/S1B_IW_20191021T004014_DVP_RTC20_G_gpufem_EB1D/S1B_IW_20191021T004014_DVP_RTC20_G_gpufem_EB1D_VH.tif\n",
      "\n",
      "Dataset/Kerala_short/RTC_GAMMA/S1A_IW_20180306T004035_DVP_RTC20_G_gpufem_E19E/S1A_IW_20180306T004035_DVP_RTC20_G_gpufem_E19E_VH.tif\n",
      "\n",
      "Dataset/Kerala_short/RTC_GAMMA/S1A_IW_20180306T004035_DVP_RTC20_G_gpufem_E19E/S1A_IW_20180306T004035_DVP_RTC20_G_gpufem_E19E_VV.tif\n",
      "\n",
      "Dataset/Kerala_short/RTC_GAMMA/S1A_IW_20180318T004035_DVP_RTC20_G_gpufem_94DE/S1A_IW_20180318T004035_DVP_RTC20_G_gpufem_94DE_VH.tif\n",
      "\n",
      "Dataset/Kerala_short/RTC_GAMMA/S1A_IW_20180318T004035_DVP_RTC20_G_gpufem_94DE/S1A_IW_20180318T004035_DVP_RTC20_G_gpufem_94DE_VV.tif\n",
      "\n",
      "Dataset/Kerala_short/RTC_GAMMA/S1A_IW_20180821T004043_DVP_RTC20_G_gpufem_4211/S1A_IW_20180821T004043_DVP_RTC20_G_gpufem_4211_VV.tif\n",
      "\n",
      "Dataset/Kerala_short/RTC_GAMMA/S1A_IW_20180821T004043_DVP_RTC20_G_gpufem_4211/S1A_IW_20180821T004043_DVP_RTC20_G_gpufem_4211_VH.tif\n",
      "\n",
      "Dataset/Kerala_short/RTC_GAMMA/S1A_IW_20180716T004041_DVP_RTC20_G_gpufem_7F69/S1A_IW_20180716T004041_DVP_RTC20_G_gpufem_7F69_VH.tif\n",
      "\n",
      "Dataset/Kerala_short/RTC_GAMMA/S1A_IW_20180716T004041_DVP_RTC20_G_gpufem_7F69/S1A_IW_20180716T004041_DVP_RTC20_G_gpufem_7F69_VV.tif\n",
      "\n",
      "Dataset/Kerala_short/RTC_GAMMA/S1A_IW_20181008T004044_DVP_RTC20_G_gpufem_BF53/S1A_IW_20181008T004044_DVP_RTC20_G_gpufem_BF53_VV.tif\n",
      "\n",
      "Dataset/Kerala_short/RTC_GAMMA/S1A_IW_20181008T004044_DVP_RTC20_G_gpufem_BF53/S1A_IW_20181008T004044_DVP_RTC20_G_gpufem_BF53_VH.tif\n",
      "\n",
      "Dataset/Kerala_short/RTC_GAMMA/S1A_IW_20180529T004038_DVP_RTC20_G_gpufem_4510/S1A_IW_20180529T004038_DVP_RTC20_G_gpufem_4510_VH.tif\n",
      "\n",
      "Dataset/Kerala_short/RTC_GAMMA/S1A_IW_20180529T004038_DVP_RTC20_G_gpufem_4510/S1A_IW_20180529T004038_DVP_RTC20_G_gpufem_4510_VV.tif\n",
      "\n",
      "Dataset/Kerala_short/RTC_GAMMA/S1A_IW_20180728T004041_DVP_RTC20_G_gpufem_2F86/S1A_IW_20180728T004041_DVP_RTC20_G_gpufem_2F86_VV.tif\n",
      "\n",
      "Dataset/Kerala_short/RTC_GAMMA/S1A_IW_20180728T004041_DVP_RTC20_G_gpufem_2F86/S1A_IW_20180728T004041_DVP_RTC20_G_gpufem_2F86_VH.tif\n",
      "\n",
      "Dataset/Kerala_short/RTC_GAMMA/S1A_IW_20180622T004039_DVP_RTC20_G_gpufem_73C0/S1A_IW_20180622T004039_DVP_RTC20_G_gpufem_73C0_VH.tif\n",
      "\n",
      "Dataset/Kerala_short/RTC_GAMMA/S1A_IW_20180622T004039_DVP_RTC20_G_gpufem_73C0/S1A_IW_20180622T004039_DVP_RTC20_G_gpufem_73C0_VV.tif\n",
      "\n"
     ]
    }
   ],
   "source": [
    "if not autorift:\n",
    "    product_paths = get_product_paths(regex, product_pth)\n",
    "    dem_paths = get_product_paths(r'dem.tif$', dems_pth)\n",
    "    print_product_paths(product_paths)"
   ]
  },
  {
   "cell_type": "markdown",
   "metadata": {},
   "source": [
    "---\n",
    "## 1.3 Merge multiple frames from the same date.\n",
    "\n",
    "You may notice duplicates in your acquisition dates. As HyP3 processes SAR data on a frame-by-frame basis, duplicates may occur if your area of interest is covered by two consecutive image frames. In this case, two separate images are generated that need to be merged together before time series processing can commence. Currently we only merge RTCs.\n",
    "\n",
    "**Create a directory in which to store the reprojected and merged RTCs, and one directory for the DEMs:**"
   ]
  },
  {
   "cell_type": "code",
   "execution_count": 33,
   "metadata": {},
   "outputs": [
    {
     "name": "stdout",
     "output_type": "stream",
     "text": [
      "Current working directory: /home/jovyan/Hydrosar/Dataset/Kerala_short\n"
     ]
    },
    {
     "name": "stdin",
     "output_type": "stream",
     "text": [
      "\n",
      "Please enter the name of a directory in which to store the tiffs and dems. Kerala\n"
     ]
    }
   ],
   "source": [
    "while True:\n",
    "    print(f\"Current working directory: {analysis_directory}\")\n",
    "    name = (input(f\"\\nPlease enter the name of a directory in which to store the tiffs and dems.\"))\n",
    "    output_dir_path_tiffs = analysis_directory.joinpath(f\"{job_type.value}_{name}_tiffs\")\n",
    "    output_dir_path_dem = analysis_directory.joinpath(f\"{job_type.value}_{name}_dems\")\n",
    "    \n",
    "    if output_dir_path_tiffs == Path('.'):\n",
    "        continue\n",
    "    if output_dir_path_tiffs.is_dir():\n",
    "        contents = output_dir_path_tiffs.glob('*')\n",
    "        if len(list(contents)) > 0:\n",
    "            choice = asfn.handle_old_data(output_dir_path_tiffs)\n",
    "            if choice == 1:\n",
    "                if output_dir_path_tiffs.exists():\n",
    "                    shutil.rmtree(output_dir_path_tiffs)\n",
    "                output_dir_path_tiffs.mkdir(parents=True, exist_ok=True)\n",
    "                output_dir_path_dem.mkdir(parents=True, exist_ok=True)\n",
    "                break\n",
    "            elif choice == 2:\n",
    "                break\n",
    "            else:\n",
    "                clear_output()\n",
    "                continue\n",
    "        else:\n",
    "            break\n",
    "    else:\n",
    "        output_dir_path_tiffs.mkdir(parents=True, exist_ok=True)\n",
    "        output_dir_path_dem.mkdir(parents=True, exist_ok=True)\n",
    "        break"
   ]
  },
  {
   "cell_type": "markdown",
   "metadata": {},
   "source": [
    "**Create a set from the date list, removing any duplicates:**"
   ]
  },
  {
   "cell_type": "code",
   "execution_count": 34,
   "metadata": {},
   "outputs": [
    {
     "name": "stdout",
     "output_type": "stream",
     "text": [
      "['20180914', '20180914', '20190112', '20190112', '20180704', '20180704', '20191027', '20191027', '20180926', '20180926', '20180610', '20180610', '20180330', '20180330', '20180809', '20180809', '20190822', '20190822', '20190124', '20190124', '20190205', '20190205', '20191009', '20191009', '20180902', '20180902', '20180423', '20180423', '20181020', '20181020', '20190927', '20190927', '20190810', '20190810', '20190903', '20190903', '20190915', '20190915', '20180517', '20180517', '20181101', '20181101', '20180505', '20180505', '20180411', '20180411', '20181207', '20181207', '20181231', '20181231', '20191021', '20191021', '20180306', '20180306', '20180318', '20180318', '20180821', '20180821', '20180716', '20180716', '20181008', '20181008', '20180529', '20180529', '20180728', '20180728', '20180622', '20180622']\n",
      "{'20180517', '20181231', '20181020', '20180505', '20190205', '20180318', '20180330', '20191009', '20180411', '20180622', '20180529', '20180821', '20190822', '20180902', '20181101', '20180704', '20180306', '20190915', '20190903', '20191027', '20180716', '20180926', '20190810', '20190927', '20190124', '20180423', '20191021', '20181207', '20180728', '20190112', '20181008', '20180809', '20180914', '20180610'}\n"
     ]
    }
   ],
   "source": [
    "if rtc:\n",
    "    dates = get_dates(product_paths)\n",
    "    print(dates)\n",
    "    unique_dates = set(dates)\n",
    "    print(unique_dates)"
   ]
  },
  {
   "cell_type": "markdown",
   "metadata": {},
   "source": [
    "**Determine which dates have multiple frames. Create a dictionary with each date as a key linked to a value set as an empty string:**"
   ]
  },
  {
   "cell_type": "code",
   "execution_count": 35,
   "metadata": {},
   "outputs": [
    {
     "name": "stdout",
     "output_type": "stream",
     "text": [
      "[{}, {}]\n"
     ]
    }
   ],
   "source": [
    "if rtc: \n",
    "    dup_date_batches = [{}]\n",
    "    for date in unique_dates:\n",
    "        count = 0\n",
    "        for d in dates:\n",
    "            if date == d:\n",
    "                count +=1\n",
    "        if (dbl_polar and count > 2) or (not dbl_polar and count > 1):\n",
    "            dup_date_batches[0].update({date : \"\"})\n",
    "    if dbl_polar:\n",
    "        dup_date_batches.append(copy.deepcopy(dup_date_batches[0]))\n",
    "    print(dup_date_batches)"
   ]
  },
  {
   "cell_type": "markdown",
   "metadata": {},
   "source": [
    "**Update the key values in dup_paths with the string paths to all the tiffs for each date:**"
   ]
  },
  {
   "cell_type": "code",
   "execution_count": 36,
   "metadata": {},
   "outputs": [
    {
     "name": "stdout",
     "output_type": "stream",
     "text": [
      "{}\n",
      "\n",
      "\n",
      "{}\n",
      "\n",
      "\n"
     ]
    }
   ],
   "source": [
    "if rtc:\n",
    "    if dbl_polar:\n",
    "        polar_list = [polarization.split(' ')[0], polarization.split(' ')[2]]\n",
    "    else:\n",
    "        polar_list = [polarization]\n",
    "\n",
    "    for i, polar in enumerate(polar_list):\n",
    "        polar_path_regex = f\"(\\w|/)*_{polar}.(tif|tiff)$\"\n",
    "        polar_paths = get_product_paths(polar_path_regex, product_pth)\n",
    "        for pth in polar_paths:\n",
    "            date = asfn.date_from_product_name(str(pth)).split('T')[0]\n",
    "            if date in dup_date_batches[i]:\n",
    "                dup_date_batches[i][date] = f\"{dup_date_batches[i][date]} {str(pth)}\"\n",
    "\n",
    "    for d in dup_date_batches:\n",
    "        print(d)\n",
    "        print(\"\\n\")"
   ]
  },
  {
   "cell_type": "markdown",
   "metadata": {},
   "source": [
    "**Merge all the frames for each date, save the results to the output directory, and delete the original tiffs.**"
   ]
  },
  {
   "cell_type": "code",
   "execution_count": 37,
   "metadata": {},
   "outputs": [],
   "source": [
    "if rtc and len(dup_date_batches[0]) > 0:\n",
    "    for i, dup_dates in enumerate(dup_date_batches):\n",
    "        polar_regex = \"(?<=_)(vh|VH|vv|VV)(?=.tif{1,2})\"\n",
    "        polar = re.search(polar_regex, dup_dates[list(dup_dates)[0]])\n",
    "        if polar:\n",
    "            polar = f'_{polar.group(0)}'\n",
    "        else:\n",
    "            polar = ''\n",
    "        for dup_date in dup_dates:\n",
    "#             print(f\"\\n\\n{dup_dates[dup_date]}\")\n",
    "            output = f\"{str(output_dir_path_tiffs)}/merged_{dup_date}T999999{polar}{product_paths[0].suffix}\"\n",
    "            gdal_command = f\"gdal_merge.py -o {output} {dup_dates[dup_date]}\"\n",
    "            print(f\"\\n\\nCalling the command: {gdal_command}\\n\")\n",
    "            !$gdal_command\n",
    "            for pth in dup_dates[dup_date].split(' '):\n",
    "                path = Path(pth)\n",
    "                if path and path.is_file():\n",
    "                    path.unlink()\n",
    "                    print(f\"Deleting: {str(pth)}\")"
   ]
  },
  {
   "cell_type": "markdown",
   "metadata": {},
   "source": [
    "---\n",
    "**Verify that all duplicate dates were resolved:**"
   ]
  },
  {
   "cell_type": "code",
   "execution_count": 38,
   "metadata": {},
   "outputs": [
    {
     "name": "stdout",
     "output_type": "stream",
     "text": [
      "No duplicate dates are associated with VV polarization.\n",
      "No duplicate dates are associated with VH polarization.\n"
     ]
    }
   ],
   "source": [
    "if rtc:\n",
    "    product_paths = get_product_paths(regex, product_pth)\n",
    "    for polar in polar_list:\n",
    "        polar_product_pth = product_pth.replace('V*', polar)\n",
    "        polar_product_paths = get_product_paths(regex, polar_product_pth)\n",
    "        dates = get_dates(polar_product_paths)\n",
    "        if len(dates) != len(set(dates)):\n",
    "            print(f\"Duplicate dates still present!\")\n",
    "        else:\n",
    "            print(f\"No duplicate dates are associated with {polar} polarization.\")"
   ]
  },
  {
   "cell_type": "markdown",
   "metadata": {},
   "source": [
    "**Print the updated the paths to all remaining non-merged tiffs:**"
   ]
  },
  {
   "cell_type": "code",
   "execution_count": 39,
   "metadata": {},
   "outputs": [
    {
     "name": "stdout",
     "output_type": "stream",
     "text": [
      "Tiff paths:\n",
      "Dataset/Kerala_short/RTC_GAMMA/S1A_IW_20180914T004044_DVP_RTC20_G_gpufem_F79F/S1A_IW_20180914T004044_DVP_RTC20_G_gpufem_F79F_VH.tif\n",
      "\n",
      "Dataset/Kerala_short/RTC_GAMMA/S1A_IW_20180914T004044_DVP_RTC20_G_gpufem_F79F/S1A_IW_20180914T004044_DVP_RTC20_G_gpufem_F79F_VV.tif\n",
      "\n",
      "Dataset/Kerala_short/RTC_GAMMA/S1A_IW_20190112T004042_DVP_RTC20_G_gpufem_9D42/S1A_IW_20190112T004042_DVP_RTC20_G_gpufem_9D42_VH.tif\n",
      "\n",
      "Dataset/Kerala_short/RTC_GAMMA/S1A_IW_20190112T004042_DVP_RTC20_G_gpufem_9D42/S1A_IW_20190112T004042_DVP_RTC20_G_gpufem_9D42_VV.tif\n",
      "\n",
      "Dataset/Kerala_short/RTC_GAMMA/S1A_IW_20180704T004040_DVP_RTC20_G_gpufem_77D5/S1A_IW_20180704T004040_DVP_RTC20_G_gpufem_77D5_VH.tif\n",
      "\n",
      "Dataset/Kerala_short/RTC_GAMMA/S1A_IW_20180704T004040_DVP_RTC20_G_gpufem_77D5/S1A_IW_20180704T004040_DVP_RTC20_G_gpufem_77D5_VV.tif\n",
      "\n",
      "Dataset/Kerala_short/RTC_GAMMA/S1A_IW_20191027T004051_DVP_RTC20_G_gpufem_7325/S1A_IW_20191027T004051_DVP_RTC20_G_gpufem_7325_VV.tif\n",
      "\n",
      "Dataset/Kerala_short/RTC_GAMMA/S1A_IW_20191027T004051_DVP_RTC20_G_gpufem_7325/S1A_IW_20191027T004051_DVP_RTC20_G_gpufem_7325_VH.tif\n",
      "\n",
      "Dataset/Kerala_short/RTC_GAMMA/S1A_IW_20180926T004044_DVP_RTC20_G_gpufem_0DFD/S1A_IW_20180926T004044_DVP_RTC20_G_gpufem_0DFD_VV.tif\n",
      "\n",
      "Dataset/Kerala_short/RTC_GAMMA/S1A_IW_20180926T004044_DVP_RTC20_G_gpufem_0DFD/S1A_IW_20180926T004044_DVP_RTC20_G_gpufem_0DFD_VH.tif\n",
      "\n",
      "Dataset/Kerala_short/RTC_GAMMA/S1A_IW_20180610T004039_DVP_RTC20_G_gpufem_4C2F/S1A_IW_20180610T004039_DVP_RTC20_G_gpufem_4C2F_VH.tif\n",
      "\n",
      "Dataset/Kerala_short/RTC_GAMMA/S1A_IW_20180610T004039_DVP_RTC20_G_gpufem_4C2F/S1A_IW_20180610T004039_DVP_RTC20_G_gpufem_4C2F_VV.tif\n",
      "\n",
      "Dataset/Kerala_short/RTC_GAMMA/S1A_IW_20180330T004035_DVP_RTC20_G_gpufem_2E40/S1A_IW_20180330T004035_DVP_RTC20_G_gpufem_2E40_VV.tif\n",
      "\n",
      "Dataset/Kerala_short/RTC_GAMMA/S1A_IW_20180330T004035_DVP_RTC20_G_gpufem_2E40/S1A_IW_20180330T004035_DVP_RTC20_G_gpufem_2E40_VH.tif\n",
      "\n",
      "Dataset/Kerala_short/RTC_GAMMA/S1A_IW_20180809T004042_DVP_RTC20_G_gpufem_4B41/S1A_IW_20180809T004042_DVP_RTC20_G_gpufem_4B41_VH.tif\n",
      "\n",
      "Dataset/Kerala_short/RTC_GAMMA/S1A_IW_20180809T004042_DVP_RTC20_G_gpufem_4B41/S1A_IW_20180809T004042_DVP_RTC20_G_gpufem_4B41_VV.tif\n",
      "\n",
      "Dataset/Kerala_short/RTC_GAMMA/S1B_IW_20190822T004008_DVP_RTC20_G_gpufem_0383/S1B_IW_20190822T004008_DVP_RTC20_G_gpufem_0383_VV.tif\n",
      "\n",
      "Dataset/Kerala_short/RTC_GAMMA/S1B_IW_20190822T004008_DVP_RTC20_G_gpufem_0383/S1B_IW_20190822T004008_DVP_RTC20_G_gpufem_0383_VH.tif\n",
      "\n",
      "Dataset/Kerala_short/RTC_GAMMA/S1A_IW_20190124T004042_DVP_RTC20_G_gpufem_EB22/S1A_IW_20190124T004042_DVP_RTC20_G_gpufem_EB22_VV.tif\n",
      "\n",
      "Dataset/Kerala_short/RTC_GAMMA/S1A_IW_20190124T004042_DVP_RTC20_G_gpufem_EB22/S1A_IW_20190124T004042_DVP_RTC20_G_gpufem_EB22_VH.tif\n",
      "\n",
      "Dataset/Kerala_short/RTC_GAMMA/S1A_IW_20190205T004041_DVP_RTC20_G_gpufem_B625/S1A_IW_20190205T004041_DVP_RTC20_G_gpufem_B625_VH.tif\n",
      "\n",
      "Dataset/Kerala_short/RTC_GAMMA/S1A_IW_20190205T004041_DVP_RTC20_G_gpufem_B625/S1A_IW_20190205T004041_DVP_RTC20_G_gpufem_B625_VV.tif\n",
      "\n",
      "Dataset/Kerala_short/RTC_GAMMA/S1B_IW_20191009T004013_DVP_RTC20_G_gpufem_043D/S1B_IW_20191009T004013_DVP_RTC20_G_gpufem_043D_VH.tif\n",
      "\n",
      "Dataset/Kerala_short/RTC_GAMMA/S1B_IW_20191009T004013_DVP_RTC20_G_gpufem_043D/S1B_IW_20191009T004013_DVP_RTC20_G_gpufem_043D_VV.tif\n",
      "\n",
      "Dataset/Kerala_short/RTC_GAMMA/S1A_IW_20180902T004044_DVP_RTC20_G_gpufem_28C7/S1A_IW_20180902T004044_DVP_RTC20_G_gpufem_28C7_VH.tif\n",
      "\n",
      "Dataset/Kerala_short/RTC_GAMMA/S1A_IW_20180902T004044_DVP_RTC20_G_gpufem_28C7/S1A_IW_20180902T004044_DVP_RTC20_G_gpufem_28C7_VV.tif\n",
      "\n",
      "Dataset/Kerala_short/RTC_GAMMA/S1A_IW_20180423T004036_DVP_RTC20_G_gpufem_8DF5/S1A_IW_20180423T004036_DVP_RTC20_G_gpufem_8DF5_VV.tif\n",
      "\n",
      "Dataset/Kerala_short/RTC_GAMMA/S1A_IW_20180423T004036_DVP_RTC20_G_gpufem_8DF5/S1A_IW_20180423T004036_DVP_RTC20_G_gpufem_8DF5_VH.tif\n",
      "\n",
      "Dataset/Kerala_short/RTC_GAMMA/S1A_IW_20181020T004045_DVP_RTC20_G_gpufem_90BE/S1A_IW_20181020T004045_DVP_RTC20_G_gpufem_90BE_VH.tif\n",
      "\n",
      "Dataset/Kerala_short/RTC_GAMMA/S1A_IW_20181020T004045_DVP_RTC20_G_gpufem_90BE/S1A_IW_20181020T004045_DVP_RTC20_G_gpufem_90BE_VV.tif\n",
      "\n",
      "Dataset/Kerala_short/RTC_GAMMA/S1B_IW_20190927T004011_DVP_RTC20_G_gpufem_A58E/S1B_IW_20190927T004011_DVP_RTC20_G_gpufem_A58E_VV.tif\n",
      "\n",
      "Dataset/Kerala_short/RTC_GAMMA/S1B_IW_20190927T004011_DVP_RTC20_G_gpufem_A58E/S1B_IW_20190927T004011_DVP_RTC20_G_gpufem_A58E_VH.tif\n",
      "\n",
      "Dataset/Kerala_short/RTC_GAMMA/S1B_IW_20190810T004008_DVP_RTC20_G_gpufem_26EE/S1B_IW_20190810T004008_DVP_RTC20_G_gpufem_26EE_VH.tif\n",
      "\n",
      "Dataset/Kerala_short/RTC_GAMMA/S1B_IW_20190810T004008_DVP_RTC20_G_gpufem_26EE/S1B_IW_20190810T004008_DVP_RTC20_G_gpufem_26EE_VV.tif\n",
      "\n",
      "Dataset/Kerala_short/RTC_GAMMA/S1B_IW_20190903T004010_DVP_RTC20_G_gpufem_F708/S1B_IW_20190903T004010_DVP_RTC20_G_gpufem_F708_VV.tif\n",
      "\n",
      "Dataset/Kerala_short/RTC_GAMMA/S1B_IW_20190903T004010_DVP_RTC20_G_gpufem_F708/S1B_IW_20190903T004010_DVP_RTC20_G_gpufem_F708_VH.tif\n",
      "\n",
      "Dataset/Kerala_short/RTC_GAMMA/S1B_IW_20190915T004010_DVP_RTC20_G_gpufem_15AD/S1B_IW_20190915T004010_DVP_RTC20_G_gpufem_15AD_VV.tif\n",
      "\n",
      "Dataset/Kerala_short/RTC_GAMMA/S1B_IW_20190915T004010_DVP_RTC20_G_gpufem_15AD/S1B_IW_20190915T004010_DVP_RTC20_G_gpufem_15AD_VH.tif\n",
      "\n",
      "Dataset/Kerala_short/RTC_GAMMA/S1A_IW_20180517T004037_DVP_RTC20_G_gpufem_39A8/S1A_IW_20180517T004037_DVP_RTC20_G_gpufem_39A8_VV.tif\n",
      "\n",
      "Dataset/Kerala_short/RTC_GAMMA/S1A_IW_20180517T004037_DVP_RTC20_G_gpufem_39A8/S1A_IW_20180517T004037_DVP_RTC20_G_gpufem_39A8_VH.tif\n",
      "\n",
      "Dataset/Kerala_short/RTC_GAMMA/S1A_IW_20181101T004045_DVP_RTC20_G_gpufem_FB53/S1A_IW_20181101T004045_DVP_RTC20_G_gpufem_FB53_VV.tif\n",
      "\n",
      "Dataset/Kerala_short/RTC_GAMMA/S1A_IW_20181101T004045_DVP_RTC20_G_gpufem_FB53/S1A_IW_20181101T004045_DVP_RTC20_G_gpufem_FB53_VH.tif\n",
      "\n",
      "Dataset/Kerala_short/RTC_GAMMA/S1A_IW_20180505T004036_DVP_RTC20_G_gpufem_930F/S1A_IW_20180505T004036_DVP_RTC20_G_gpufem_930F_VH.tif\n",
      "\n",
      "Dataset/Kerala_short/RTC_GAMMA/S1A_IW_20180505T004036_DVP_RTC20_G_gpufem_930F/S1A_IW_20180505T004036_DVP_RTC20_G_gpufem_930F_VV.tif\n",
      "\n",
      "Dataset/Kerala_short/RTC_GAMMA/S1A_IW_20180411T004035_DVP_RTC20_G_gpufem_0833/S1A_IW_20180411T004035_DVP_RTC20_G_gpufem_0833_VV.tif\n",
      "\n",
      "Dataset/Kerala_short/RTC_GAMMA/S1A_IW_20180411T004035_DVP_RTC20_G_gpufem_0833/S1A_IW_20180411T004035_DVP_RTC20_G_gpufem_0833_VH.tif\n",
      "\n",
      "Dataset/Kerala_short/RTC_GAMMA/S1A_IW_20181207T004044_DVP_RTC20_G_gpufem_66E0/S1A_IW_20181207T004044_DVP_RTC20_G_gpufem_66E0_VH.tif\n",
      "\n",
      "Dataset/Kerala_short/RTC_GAMMA/S1A_IW_20181207T004044_DVP_RTC20_G_gpufem_66E0/S1A_IW_20181207T004044_DVP_RTC20_G_gpufem_66E0_VV.tif\n",
      "\n",
      "Dataset/Kerala_short/RTC_GAMMA/S1A_IW_20181231T004043_DVP_RTC20_G_gpufem_26C0/S1A_IW_20181231T004043_DVP_RTC20_G_gpufem_26C0_VV.tif\n",
      "\n",
      "Dataset/Kerala_short/RTC_GAMMA/S1A_IW_20181231T004043_DVP_RTC20_G_gpufem_26C0/S1A_IW_20181231T004043_DVP_RTC20_G_gpufem_26C0_VH.tif\n",
      "\n",
      "Dataset/Kerala_short/RTC_GAMMA/S1B_IW_20191021T004014_DVP_RTC20_G_gpufem_EB1D/S1B_IW_20191021T004014_DVP_RTC20_G_gpufem_EB1D_VV.tif\n",
      "\n",
      "Dataset/Kerala_short/RTC_GAMMA/S1B_IW_20191021T004014_DVP_RTC20_G_gpufem_EB1D/S1B_IW_20191021T004014_DVP_RTC20_G_gpufem_EB1D_VH.tif\n",
      "\n",
      "Dataset/Kerala_short/RTC_GAMMA/S1A_IW_20180306T004035_DVP_RTC20_G_gpufem_E19E/S1A_IW_20180306T004035_DVP_RTC20_G_gpufem_E19E_VH.tif\n",
      "\n",
      "Dataset/Kerala_short/RTC_GAMMA/S1A_IW_20180306T004035_DVP_RTC20_G_gpufem_E19E/S1A_IW_20180306T004035_DVP_RTC20_G_gpufem_E19E_VV.tif\n",
      "\n",
      "Dataset/Kerala_short/RTC_GAMMA/S1A_IW_20180318T004035_DVP_RTC20_G_gpufem_94DE/S1A_IW_20180318T004035_DVP_RTC20_G_gpufem_94DE_VH.tif\n",
      "\n",
      "Dataset/Kerala_short/RTC_GAMMA/S1A_IW_20180318T004035_DVP_RTC20_G_gpufem_94DE/S1A_IW_20180318T004035_DVP_RTC20_G_gpufem_94DE_VV.tif\n",
      "\n",
      "Dataset/Kerala_short/RTC_GAMMA/S1A_IW_20180821T004043_DVP_RTC20_G_gpufem_4211/S1A_IW_20180821T004043_DVP_RTC20_G_gpufem_4211_VV.tif\n",
      "\n",
      "Dataset/Kerala_short/RTC_GAMMA/S1A_IW_20180821T004043_DVP_RTC20_G_gpufem_4211/S1A_IW_20180821T004043_DVP_RTC20_G_gpufem_4211_VH.tif\n",
      "\n",
      "Dataset/Kerala_short/RTC_GAMMA/S1A_IW_20180716T004041_DVP_RTC20_G_gpufem_7F69/S1A_IW_20180716T004041_DVP_RTC20_G_gpufem_7F69_VH.tif\n",
      "\n",
      "Dataset/Kerala_short/RTC_GAMMA/S1A_IW_20180716T004041_DVP_RTC20_G_gpufem_7F69/S1A_IW_20180716T004041_DVP_RTC20_G_gpufem_7F69_VV.tif\n",
      "\n",
      "Dataset/Kerala_short/RTC_GAMMA/S1A_IW_20181008T004044_DVP_RTC20_G_gpufem_BF53/S1A_IW_20181008T004044_DVP_RTC20_G_gpufem_BF53_VV.tif\n",
      "\n",
      "Dataset/Kerala_short/RTC_GAMMA/S1A_IW_20181008T004044_DVP_RTC20_G_gpufem_BF53/S1A_IW_20181008T004044_DVP_RTC20_G_gpufem_BF53_VH.tif\n",
      "\n",
      "Dataset/Kerala_short/RTC_GAMMA/S1A_IW_20180529T004038_DVP_RTC20_G_gpufem_4510/S1A_IW_20180529T004038_DVP_RTC20_G_gpufem_4510_VH.tif\n",
      "\n",
      "Dataset/Kerala_short/RTC_GAMMA/S1A_IW_20180529T004038_DVP_RTC20_G_gpufem_4510/S1A_IW_20180529T004038_DVP_RTC20_G_gpufem_4510_VV.tif\n",
      "\n",
      "Dataset/Kerala_short/RTC_GAMMA/S1A_IW_20180728T004041_DVP_RTC20_G_gpufem_2F86/S1A_IW_20180728T004041_DVP_RTC20_G_gpufem_2F86_VV.tif\n",
      "\n",
      "Dataset/Kerala_short/RTC_GAMMA/S1A_IW_20180728T004041_DVP_RTC20_G_gpufem_2F86/S1A_IW_20180728T004041_DVP_RTC20_G_gpufem_2F86_VH.tif\n",
      "\n",
      "Dataset/Kerala_short/RTC_GAMMA/S1A_IW_20180622T004039_DVP_RTC20_G_gpufem_73C0/S1A_IW_20180622T004039_DVP_RTC20_G_gpufem_73C0_VH.tif\n",
      "\n",
      "Dataset/Kerala_short/RTC_GAMMA/S1A_IW_20180622T004039_DVP_RTC20_G_gpufem_73C0/S1A_IW_20180622T004039_DVP_RTC20_G_gpufem_73C0_VV.tif\n",
      "\n"
     ]
    }
   ],
   "source": [
    "if rtc:\n",
    "    print_product_paths(product_paths)"
   ]
  },
  {
   "cell_type": "markdown",
   "metadata": {},
   "source": [
    "**Merge all the DEMs into one (overlapping data should be the same because they are all from COP30)**"
   ]
  },
  {
   "cell_type": "code",
   "execution_count": 40,
   "metadata": {},
   "outputs": [],
   "source": [
    "# List of DEM file paths\n",
    "dem_paths\n",
    "\n",
    "# List to store the opened DEM datasets\n",
    "datasets = []\n",
    "\n",
    "# Open each DEM dataset and add it to the list\n",
    "for file in dem_paths:\n",
    "    dataset = rasterio.open(file)\n",
    "    datasets.append(dataset)\n",
    "\n",
    "# Merge the DEM datasets\n",
    "merged, out_transform = merge(datasets)"
   ]
  },
  {
   "cell_type": "markdown",
   "metadata": {},
   "source": [
    "**Move all remaining unmerged tiffs into the output directory, and choose whether to save or delete the directory holding the remaining downloaded product files. AutoRIFT NetCDFs will remain in their original directory:**"
   ]
  },
  {
   "cell_type": "code",
   "execution_count": 41,
   "metadata": {},
   "outputs": [
    {
     "name": "stdout",
     "output_type": "stream",
     "text": [
      "Do you wish to save or delete the directory containing auxiliary product files?\n"
     ]
    },
    {
     "data": {
      "application/vnd.jupyter.widget-view+json": {
       "model_id": "d8f0f06470a94f17bf306c33e818258a",
       "version_major": 2,
       "version_minor": 0
      },
      "text/plain": [
       "RadioButtons(layout=Layout(min_width='800px'), options=('save', 'delete'), value='save')"
      ]
     },
     "metadata": {},
     "output_type": "display_data"
    }
   ],
   "source": [
    "if not autorift:\n",
    "    choices = ['save', 'delete']\n",
    "    print(\"Do you wish to save or delete the directory containing auxiliary product files?\")\n",
    "else:\n",
    "    choices = []\n",
    "save_or_del = asfn.select_parameter(choices)\n",
    "save_or_del"
   ]
  },
  {
   "cell_type": "code",
   "execution_count": 45,
   "metadata": {},
   "outputs": [
    {
     "data": {
      "text/plain": [
       "[]"
      ]
     },
     "execution_count": 45,
     "metadata": {},
     "output_type": "execute_result"
    }
   ],
   "source": [
    "product_paths\n"
   ]
  },
  {
   "cell_type": "code",
   "execution_count": 46,
   "metadata": {},
   "outputs": [],
   "source": [
    "if not autorift:\n",
    "    for tiff in product_paths:\n",
    "        tiff.rename(f\"{output_dir_path_tiffs}/{tiff.name}\")\n",
    "    \n",
    "    # Save the merged DEM\n",
    "    # Define the output file path and metadata\n",
    "    output_file = f\"{output_dir_path_dem}/{name}_merged.tif\"\n",
    "    output_meta = dataset.meta.copy()\n",
    "    output_meta.update({'driver': 'GTiff', 'height': merged.shape[1], 'width': merged.shape[2], 'transform': out_transform})\n",
    "    # Write the merged DEM to the output file\n",
    "    with rasterio.open(output_file, 'w', **output_meta) as dst:\n",
    "        dst.write(merged)\n",
    "    # Close all the opened datasets\n",
    "    for dataset in datasets:\n",
    "        dataset.close()\n",
    "\n",
    "    if save_or_del.value == 'delete':\n",
    "        shutil.rmtree(products_path)\n",
    "    product_paths = get_product_paths(regex, product_pth)"
   ]
  },
  {
   "cell_type": "markdown",
   "metadata": {},
   "source": [
    "**Print the path where you saved your tiffs or NetCDFs.**"
   ]
  },
  {
   "cell_type": "code",
   "execution_count": 47,
   "metadata": {},
   "outputs": [
    {
     "name": "stdout",
     "output_type": "stream",
     "text": [
      "/home/jovyan/Hydrosar/Dataset/Kerala_short/RTC_GAMMA_Kerala_tiffs\n"
     ]
    }
   ],
   "source": [
    "if rtc or insar:\n",
    "    print(str(output_dir_path_tiffs))\n",
    "elif autorift:\n",
    "    print(str(products_path))"
   ]
  },
  {
   "cell_type": "markdown",
   "metadata": {
    "pycharm": {
     "name": "#%% md\n"
    }
   },
   "source": [
    "*Prepare_RTC_Stack_HyP3_v2.ipynb - Version 2.0.1 - February 2023*\n",
    "\n",
    "*Version Changes:*\n",
    "- *added dems migration to a folder to be used in HAND*\n",
    "- *fix breaking projectless jobs downloading*"
   ]
  }
 ],
 "metadata": {
  "kernelspec": {
   "display_name": "rtc_analysis [conda env:.local-rtc_analysis]",
   "language": "python",
   "name": "conda-env-.local-rtc_analysis-py"
  },
  "language_info": {
   "codemirror_mode": {
    "name": "ipython",
    "version": 3
   },
   "file_extension": ".py",
   "mimetype": "text/x-python",
   "name": "python",
   "nbconvert_exporter": "python",
   "pygments_lexer": "ipython3",
   "version": "3.9.16"
  },
  "toc-autonumbering": true
 },
 "nbformat": 4,
 "nbformat_minor": 4
}
