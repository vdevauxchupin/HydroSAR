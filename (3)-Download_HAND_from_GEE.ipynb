{
 "cells": [
  {
   "cell_type": "markdown",
   "metadata": {},
   "source": [
    "![HydroSAR Banner](./NotebookAddOns/HydroSARbanner.jpg)\n",
    "\n",
    "# Download HAND from GEE\n",
    "\n",
    "## Download raster tiles from HAND dataset on Google Earth Engine\n",
    "\n",
    "**Part of NASA A.37 Project: Integrating SAR Data for Improved Resilience and Response to Weather-Related Disasters**\n",
    "\n",
    "### PI: Franz J. Meyer\n",
    "**Version 0.1.3 - 2021/01/24**\n",
    "\n",
    "Change Log: See bottom of the notebook.\n",
    "\n",
    "Contact: **batuhan.osmanoglu@nasa.gov**"
   ]
  },
  {
   "cell_type": "code",
   "execution_count": 23,
   "metadata": {
    "collapsed": false,
    "jupyter": {
     "outputs_hidden": false
    },
    "pycharm": {
     "name": "#%%\n"
    }
   },
   "outputs": [
    {
     "data": {
      "application/vnd.jupyter.widget-view+json": {
       "model_id": "4546cb8c8ace4703a77efb01365d62f2",
       "version_major": 2,
       "version_minor": 0
      },
      "text/plain": [
       "URLWidget()"
      ]
     },
     "metadata": {},
     "output_type": "display_data"
    }
   ],
   "source": [
    "import url_widget as url_w\n",
    "notebookUrl = url_w.URLWidget()\n",
    "display(notebookUrl)"
   ]
  },
  {
   "cell_type": "code",
   "execution_count": 24,
   "metadata": {},
   "outputs": [],
   "source": [
    "from IPython.display import Markdown\n",
    "from IPython.display import display\n",
    "\n",
    "notebookUrl = notebookUrl.value\n",
    "user = !echo $JUPYTERHUB_USER\n",
    "env = !echo $CONDA_PREFIX\n",
    "if env[0] == '':\n",
    "    env[0] = 'Python 3 (base)'\n",
    "if env[0] != '/home/jovyan/.local/envs/hydrosar':\n",
    "    display(Markdown(f'<text style=color:red><strong>WARNING:</strong></text>'))\n",
    "    display(Markdown(f'<text style=color:red>This notebook should be run using the \"hydrosar\" conda environment.</text>'))\n",
    "    display(Markdown(f'<text style=color:red>It is currently using the \"{env[0].split(\"/\")[-1]}\" environment.</text>'))\n",
    "    display(Markdown(f'<text style=color:red>Select \"hydrosar\" from the \"Change Kernel\" submenu of the \"Kernel\" menu.</text>'))\n",
    "    display(Markdown(f'<text style=color:red>If the \"hydrosar\" environment is not present, use <a href=\"{notebookUrl.split(\"/user\")[0]}/user/{user[0]}/notebooks/conda_environments/Create_OSL_Conda_Environments.ipynb\"> Create_OSL_Conda_Environments.ipynb </a> to create it.</text>'))\n",
    "    display(Markdown(f'<text style=color:red>Note that you must restart your server after creating a new environment before it is usable by notebooks.</text>'))"
   ]
  },
  {
   "cell_type": "markdown",
   "metadata": {},
   "source": [
    "---\n",
    "\n",
    "## 0. Importing Relevant Python Packages\n",
    "\n",
    "The first step in any notebook is to import the required Python libraries into the Jupyter environment. In this notebooks we use the following libraries:\n",
    "\n",
    "- [GDAL](https://www.gdal.org/) is a software library for reading and writing raster and vector geospatial data formats. It includes a collection of programs tailored for geospatial data processing. Most modern GIS systems (such as ArcGIS or QGIS) use GDAL in the background.\n",
    "- [NumPy](http://www.numpy.org/) is one of the principal packages for scientific applications of Python. It is intended for processing large multidimensional arrays and matrices, and an extensive collection of high-level mathematical functions and implemented methods makes it possible to perform various operations with these objects.\n",
    "- [urllib](https://docs.python.org/3/library/urllib.html) is an internal package that collects several modules for working with URLs.\n",
    "- [zipfile](https://docs.python.org/3/library/zipfile.html) is an internal python module provides tools to create, read, write, append, and list a ZIP file.\n",
    "- [tempfile](https://docs.python.org/3/library/tempfile.html) is an internal python package that creates temporary files and directories.\n",
    "- [tqdm](https://github.com/tqdm/tqdm) is a smart progress meter that allows easy addition of a loop counter.\n",
    "- [googleapiclient](https://pypi.org/project/google-api-python-client/) is the Python client library for Google's discovery based APIs. These client libraries are officially supported by Google.\n",
    "- [oauth2client](https://pypi.org/project/oauth2client/) is a client library for OAuth 2.0, which is used to access the users Google Earth Engine account.\n",
    "- [earthengine](https://pypi.org/project/earthengine-api/) allows developers to interact with Google Earth Engine using the Python programming language."
   ]
  },
  {
   "cell_type": "code",
   "execution_count": 25,
   "metadata": {
    "code_folding": [
     0
    ]
   },
   "outputs": [],
   "source": [
    "#Setup Environment\n",
    "from pathlib import Path\n",
    "import urllib\n",
    "import zipfile\n",
    "from tqdm.auto import tqdm\n",
    "import shutil\n",
    "\n",
    "import numpy as np\n",
    "from osgeo import gdal\n",
    "from osgeo import osr\n",
    "import pyproj\n",
    "from oauth2client import crypt\n",
    "\n",
    "from ipyfilechooser import FileChooser\n",
    "\n",
    "import googleapiclient\n",
    "import ee"
   ]
  },
  {
   "cell_type": "markdown",
   "metadata": {},
   "source": [
    "# 1. Define convenience functions\n",
    "\n",
    "Here we define some functions for later convenience.\n",
    "    \n",
    "- **built_vrt** generate a virtual raster file using GDAL.\n",
    "- **bounding_box_to_string** given west, east, south, north bounds, return a string e.g. 'E084_N025_E085_N024'\n",
    "- **coordinate_to_string** return string from given lat/lon coordinates. e.g. 'E084_N025'\n",
    "- **reproject** reprojects a given vector file to another coordinate reference system (CRS).\n",
    "- **download_tile_from_ge** download a single tile from Google Earth Engine, not to exceed 32MB in size.\n",
    "- **download_from_ge** calculates number of tiles needed given an area, downloads and stitches.\n",
    "- **estimate_size** estimates tile size with SRTM-1arcsec format and sampling assumptions.    \n",
    "- **gdal_get_geotransform** returns the geotransform of the dataset using GDAL.\n",
    "- **gdal_get_projection** returns the spatial reference system in wkt, proj4, or epsg formats.\n",
    "- **gdal_get_WESN** returns rectangle bounding box coordinates: west, east, south and north.\n",
    "- **numel** returns number of elements for a wide range of data types.  \n",
    "- **PathSelector** displays a file tree to easily browse and select a file.\n",
    "- **transform_point** transforms a point coordinate to another coordinate reference system (CRS).\n",
    "- **TqdmUpTo** callback function for TQDM counter used in warp function.\n",
    "- **warp** a raster file into a new coordinate system using GDAL. Can also be used to combine multiple tiles into a single file."
   ]
  },
  {
   "cell_type": "code",
   "execution_count": 26,
   "metadata": {
    "code_folding": [
     0,
     3,
     8,
     16,
     29,
     143,
     148,
     156,
     180,
     195,
     212,
     272,
     303,
     321
    ]
   },
   "outputs": [],
   "source": [
    "#Define Constants and Functions\n",
    "\n",
    "google_api_download_limit=33554432\n",
    "def build_vrt(filename, input_file_list, targetAlignedPixels=True, separate=False, resampleAlg='near', resolution='highest'):\n",
    "    filename = str(filename)\n",
    "    input_file_list = [str(i) for i in input_file_list]\n",
    "    \n",
    "    vrt_options = gdal.BuildVRTOptions(resampleAlg=resampleAlg, resolution=resolution, separate=separate, targetAlignedPixels=targetAlignedPixels)\n",
    "    ds=gdal.BuildVRT(filename, input_file_list, options=vrt_options)\n",
    "    ds.FlushCache()\n",
    "\n",
    "    \n",
    "def bounding_box_to_string(w, e, s, n, factor=3):\n",
    "    \"\"\"Format a pair of angles lat, lon as a string:\n",
    "    string = coordinate_to_string(lat, lon)\n",
    "    \"\"\"\n",
    "    s1=coordinate_to_string(n,w, factor=factor)\n",
    "    s2=coordinate_to_string(s,e, factor=factor)\n",
    "    return '_'.join([s1,s2])\n",
    "    \n",
    "    \n",
    "def coordinate_to_string(lat,lon, factor=4):\n",
    "    \"\"\"Format a pair of angles lat, lon as a string:\n",
    "    string = coordinate_to_string(lat, lon)\n",
    "    \"\"\"\n",
    "    def format_parts():\n",
    "        fmt = f'{{prefix}}{{value:0>{str(factor+3)}d}}'\n",
    "        for angle, directions in zip((lon, lat), ['EW', 'NS']):\n",
    "            if angle >= 0:\n",
    "                yield fmt.format(prefix=directions[0], value=int(angle*10**factor))\n",
    "            else:\n",
    "                yield fmt.format(prefix=directions[1], value=int(-angle*10**factor))\n",
    "    return '_'.join(format_parts())\n",
    "\n",
    "\n",
    "def download_tile_from_ge(W, E, S, N, \n",
    "                          collection_path=Path('users/gena/global-hand/hand-100'), \n",
    "                          prefix=None, fname=None, download_path=None, debug=False):\n",
    "    if download_path is None:\n",
    "        download_path = Path.cwd()\n",
    "    else:\n",
    "        download_path = Path(download_path)\n",
    "    if prefix is None:\n",
    "        if fname is None:\n",
    "            prefix='ge'            \n",
    "    else: #prefix is not None\n",
    "        if fname is not None: # and fname is not None\n",
    "            print('When fname is specified prefix is ignored.')\n",
    "\n",
    "    geom = ee.Geometry.Polygon( [[E, S], [W, S], [W, N], [E, N], [E, S]] )    \n",
    "    try:  \n",
    "        #GENA HAND dataset is an image collection\n",
    "        hand = ee.ImageCollection(str(collection_path))\n",
    "        hand_clip = ee.ImageCollection(hand.filterBounds(geom))\n",
    "        hand_mosaic = hand_clip.reduce(ee.Reducer.mean())\n",
    "        ge_path = hand_mosaic.getDownloadUrl({\n",
    "            'scale': 30,\n",
    "            'crs': 'EPSG:4326',\n",
    "            'region': geom,\n",
    "            'maxPixels': 1e10\n",
    "        })        \n",
    "    except:\n",
    "        #This allows for future expansion to other datasets like NASADEM\n",
    "        #e.g.\n",
    "        #download_from_ge(W,E,S,N, collection_path=\"NASA/NASADEM_HGT/001\",download_path='/home/jovyan/nasadem_test/ge_nasadem.vrt', debug=True, keep_downloads=False)\n",
    "        hand = ee.Image(collection_path)\n",
    "        ge_path = hand.getDownloadUrl({\n",
    "            'scale': 30,\n",
    "            'crs': 'EPSG:4326',\n",
    "            'region': geom,\n",
    "            'maxPixels': 1e10\n",
    "        })\n",
    "\n",
    "    if fname is None:\n",
    "        fname = Path(f'{prefix}_{W}W_{E}E_{S}S_{N}N.zip')\n",
    "    if debug: print(f'Downloading {fname} from: {ge_path}')\n",
    "    output_path = download_path/fname\n",
    "    urllib.request.urlretrieve(ge_path, output_path)\n",
    "    return output_path    \n",
    "\n",
    "\n",
    "def download_from_ge(W, E, S, N, \n",
    "                     collection_path=Path('users/gena/global-hand/hand-100'), \n",
    "                     prefix=None, download_path=None, debug=False, \n",
    "                     keep_downloads=False, dstSRS=None):    \n",
    "    #deal with input\n",
    "    if prefix is None:\n",
    "        prefix='ge'    \n",
    "    if download_path is not None:\n",
    "        download_path = Path(download_path)\n",
    "    else:\n",
    "        download_path = Path.cwd()/'ge_download.tif'\n",
    "    download_folder = download_path.parent\n",
    "    if not download_folder.exists():\n",
    "        download_folder.mkdir()\n",
    "    elif download_folder.is_file(): \n",
    "        print(f'Can not create download_folder: {download_folder}')\n",
    "        print(\"There is already a file with thte same name.\")\n",
    "        raise ValueError\n",
    "\n",
    "    #start download\n",
    "    estimated_size = estimate_size(W, E, S, N) * 1.2 #overestimate a little. \n",
    "    tile_count = estimated_size / google_api_download_limit    \n",
    "    if tile_count > 1: #32MB=32*1024*1024\n",
    "        print(f'Area too large by a factor of: {tile_count}')        \n",
    "    divider = int(np.ceil(np.sqrt(tile_count)) + 1)\n",
    "    SN = np.linspace(S, N, divider)    \n",
    "    WE = np.linspace(W, E, divider)\n",
    "    if debug: print(f'SN: {SN}')\n",
    "    if debug: print(f'WE: {WE}')\n",
    "    s  = SN[0]\n",
    "    w  = WE[0]\n",
    "    zip_files = []\n",
    "    print('Downloading...')\n",
    "    for n in tqdm(SN[1:]):\n",
    "        for e in tqdm(WE[1:]):\n",
    "            if debug: print(f'w/e/s/n: {w}/{e}/{s}/{n}')\n",
    "            #fname=prefix+f'_{w}W_{e}E_{s}S_{n}N.zip'\n",
    "            fname = f\"{'_'.join([prefix, bounding_box_to_string(w, e, s, n)])}.zip\"\n",
    "            if debug: print(f'download: {download_folder/fname}')\n",
    "            if (download_folder/fname).is_file():\n",
    "                zip_files.append(download_folder/fname)\n",
    "            else:\n",
    "                zip_files.append(download_tile_from_ge(w, e, s, n, \n",
    "                                                       collection_path=collection_path, \n",
    "                                                       fname=fname, \n",
    "                                                       download_path=download_folder, \n",
    "                                                       debug=debug))\n",
    "            w = e.copy()\n",
    "        s = n.copy()\n",
    "        w = WE[0]\n",
    "    if debug: print(zip_files)\n",
    "    \n",
    "    #start_splicing  \n",
    "    print('Unzipping...')\n",
    "    zip_contents = []\n",
    "    extract_folders = [f.parent for f in zip_files]\n",
    "    for f, extract_folder in zip(zip_files, extract_folders):        \n",
    "        with zipfile.ZipFile(f, 'r') as zip_ref:  \n",
    "            zip_contents.append(zip_ref.namelist())\n",
    "            zip_ref.extractall(path=extract_folder)\n",
    "    if debug: print(zip_contents)\n",
    "    \n",
    "    #convert zip_contents to list of full paths.\n",
    "    vrt_contents=[ extract_folders[k]/zip_contents[k][0] for k in range(len(zip_files))]\n",
    "    if debug: print(f'contents:{vrt_contents}')\n",
    "    \n",
    "    #combine with gdal\n",
    "    warp([str(f) for f in vrt_contents], str(download_path), pixel_spacing=None,dstSRS=dstSRS) #vrt can leave too many files behind. Switching to warp. \n",
    "\n",
    "    #cleanup\n",
    "    if debug or keep_downloads:\n",
    "        print('Skipping cleanup in debug mode or when keep_downloads is set.')\n",
    "        print(f'Files NOT deleted: {zip_files}')\n",
    "        print(f'Folders NOT deleted: {extract_folders}')\n",
    "    else:\n",
    "        for f in zip_files:\n",
    "            f.unlink()\n",
    "        shutil.rmtree(vrt_contents[0].parent)\n",
    "    print(f'Successfully generated:{download_path}')    \n",
    "        \n",
    "def estimate_size(W, E, S, N):\n",
    "    pixels_per_deg = 3601\n",
    "    bytes_per_pixel = 4\n",
    "    return (E - W) * pixels_per_deg * (N - S) * pixels_per_deg * bytes_per_pixel    \n",
    "    \n",
    "def gdal_get_geotransform(filename):\n",
    "    '''\n",
    "    [top left x, w-e pixel resolution, rotation, top left y, rotation, n-s pixel resolution]=gdal_get_geotransform('/path/to/file')\n",
    "    '''\n",
    "    filename == str(filename)\n",
    "    #http://stackoverflow.com/questions/2922532/obtain-latitude-and-longitude-from-a-geotiff-file\n",
    "    ds = gdal.Open(filename)\n",
    "    return ds.GetGeoTransform()\n",
    "\n",
    "\n",
    "def gdal_get_projection(filename, out_format='proj4'):\n",
    "    \"\"\"\n",
    "    epsg_string=get_epsg(filename, out_format='proj4')\n",
    "    \"\"\"\n",
    "    filename = str(filename)\n",
    "    try:\n",
    "      ds=gdal.Open(filename, gdal.GA_ReadOnly)\n",
    "      srs=gdal.osr.SpatialReference()\n",
    "      srs.ImportFromWkt(ds.GetProjectionRef())\n",
    "    except: #I am not sure if this is working for datasets without a layer. The first try block should work mostly.\n",
    "      ds=gdal.Open(filename, gdal.GA_ReadOnly)\n",
    "      ly=ds.GetLayer()\n",
    "      if ly is None:\n",
    "        print(f\"Can not read projection from file:{filename}\")\n",
    "        return None\n",
    "      else:\n",
    "        srs=ly.GetSpatialRef()\n",
    "    if out_format.lower()=='proj4':\n",
    "      return srs.ExportToProj4()\n",
    "    elif out_format.lower()=='wkt':\n",
    "      return srs.ExportToWkt()\n",
    "    elif out_format.lower()=='epsg':\n",
    "      crs=pyproj.crs.CRS.from_proj4(srs.ExportToProj4())\n",
    "      return crs.to_epsg()\n",
    "\n",
    "    \n",
    "def gdal_get_WESN(filename):\n",
    "    '''\n",
    "    (minx,miny,maxx,maxy)=corners('/path/to/file')\n",
    "    '''\n",
    "    #http://stackoverflow.com/questions/2922532/obtain-latitude-and-longitude-from-a-geotiff-file\n",
    "    filename = str(filename)\n",
    "    ds = gdal.Open(filename)\n",
    "    width = ds.RasterXSize\n",
    "    height = ds.RasterYSize\n",
    "    gt = ds.GetGeoTransform()\n",
    "    minx = gt[0]\n",
    "    miny = gt[3] + width*gt[4] + height*gt[5] \n",
    "    maxx = gt[0] + width*gt[1] + height*gt[2]\n",
    "    maxy = gt[3] \n",
    "    return (minx, maxx, miny, maxy)\n",
    "\n",
    "\n",
    "def numel(x):\n",
    "    if isinstance(x, int):\n",
    "      return 1\n",
    "    elif isinstance(x, float):\n",
    "      return 1\n",
    "    elif isinstance(x, float):\n",
    "      return 1\n",
    "    elif isinstance(x, str):\n",
    "      return 1\n",
    "    elif isinstance(x, list) or isinstance(x, tuple):\n",
    "      return len(x)\n",
    "    elif isinstance(x, np.ndarray):\n",
    "      return x.size\n",
    "    else: \n",
    "      print('Unknown type {}.'.format(type(x)))\n",
    "      return None\n",
    "\n",
    "    \n",
    "def transform_point(x, y, z, \n",
    "                    s_srs='+proj=longlat +ellps=WGS84 +datum=WGS84 +no_defs', \n",
    "                    t_srs='+proj=longlat +ellps=WGS84 +datum=WGS84 +no_defs'):\n",
    "    '''\n",
    "    transform_point(x,y,z,s_srs='+proj=longlat +ellps=WGS84 +datum=WGS84 +no_defs', t_srs='+proj=longlat +ellps=WGS84 +datum=WGS84 +no_defs')\n",
    "    \n",
    "    Known Bugs: gdal transform may fail if a proj4 string can not be found for the EPSG or WKT formats. \n",
    "    '''    \n",
    "    srs_cs = osr.SpatialReference()    \n",
    "    if \"EPSG\" == s_srs[0:4]:    \n",
    "      srs_cs.ImportFromEPSG(int(s_srs.split(':')[1]))\n",
    "    elif \"GEOCCS\" == s_srs[0:6]:\n",
    "      srs_cs.ImportFromWkt(s_srs)\n",
    "    else:\n",
    "      srs_cs.ImportFromProj4(s_srs)\n",
    "\n",
    "    trs_cs = osr.SpatialReference()    \n",
    "    if \"EPSG\" == t_srs[0:4]:    \n",
    "      trs_cs.ImportFromEPSG(int(t_srs.split(':')[1]));\n",
    "    elif \"GEOCCS\" == t_srs[0:6]:\n",
    "      trs_cs.ImportFromWkt(t_srs)\n",
    "    else:\n",
    "      trs_cs.ImportFromProj4(t_srs)\n",
    "    transform = osr.CoordinateTransformation(srs_cs,trs_cs) \n",
    "    \n",
    "    if numel(x) > 1:\n",
    "        return [transformPoint(x[k], y[k], z[k]) for k in range(numel(x))]\n",
    "    else:\n",
    "        try:\n",
    "            return transform.TransformPoint((x,y,z))\n",
    "        except: \n",
    "            return transform.TransformPoint(x,y,z)\n",
    "\n",
    "        \n",
    "class TqdmUpTo(tqdm): #Used in warp()\n",
    "    \"\"\"Provides `update_to(n)` which uses `tqdm.update(delta_n)`.\"\"\"\n",
    "    def update_to(self, b=1, bsize=1, tsize=None):\n",
    "        \"\"\"\n",
    "        b  : int, optional\n",
    "            Number of blocks transferred so far [default: 1].\n",
    "        bsize  : int, optional\n",
    "            Size of each block (in tqdm units) [default: 1].\n",
    "        tsize  : int, optional\n",
    "            Total size (in tqdm units). If [default: None] remains unchanged.\n",
    "        \"\"\"\n",
    "        if tsize is not None:\n",
    "            self.total = tsize\n",
    "        return self.update(b * bsize - self.n)  # also sets self.n = b * bsize\n",
    "    def callback(self, complete, message, data):\n",
    "        percent = int(complete * 100)  # round to integer percent\n",
    "        self.update_to(percent, tsize=100)\n",
    "        \n",
    "        \n",
    "def warp(src_filename, dst_filename, pixel_spacing=0.00008333, xRes=None, yRes=None, resampleAlg='nearest', dstSRS=\"EPSG:4326\", tps=False, rpc=False):\n",
    "    if xRes is None and pixel_spacing:\n",
    "        xRes = pixel_spacing\n",
    "    if yRes is None and pixel_spacing:\n",
    "        yRes = pixel_spacing\n",
    "    t = TqdmUpTo()\n",
    "    gwo = gdal.WarpOptions(xRes=xRes, yRes=yRes, resampleAlg=resampleAlg, dstSRS=dstSRS, callback=t.callback)\n",
    "\n",
    "    gdal.Warp(dst_filename, src_filename, options=gwo)\n",
    "    del t"
   ]
  },
  {
   "cell_type": "markdown",
   "metadata": {},
   "source": [
    "## 2. Define input parameters\n",
    "\n",
    "Please set coordinates, output file and other options."
   ]
  },
  {
   "cell_type": "code",
   "execution_count": 27,
   "metadata": {
    "code_folding": []
   },
   "outputs": [
    {
     "name": "stdout",
     "output_type": "stream",
     "text": [
      "Choose a file name for the HAND tif\n"
     ]
    },
    {
     "name": "stdin",
     "output_type": "stream",
     "text": [
      " HAND_TEST\n"
     ]
    }
   ],
   "source": [
    "# Define Input Parameters\n",
    "\n",
    "## 1. Bounding Box for the Area of Interest ##\n",
    "# Set same value (e.g. all zeros) to select bounding box using file. \n",
    "\n",
    "W = 0 #92.0#-96.5001618 #upper left -96.5 / -95.1 / 39.9 / 41.5\n",
    "N = 0 #25.0#41.5002284\n",
    "E = 0 #93.0#-95.1003219 #lower right\n",
    "S = 0 #24.0#39.9001804\n",
    "\n",
    "## 2. Output file name ##\n",
    "print(\"Choose a file name for the HAND tif\")\n",
    "while True:\n",
    "    output_file = Path.cwd()/f\"HAND_files/{input()}.tif\"\n",
    "    if output_file == \"\":\n",
    "        print(\"Please enter a valid directory name\")\n",
    "        continue\n",
    "    else:\n",
    "        output_file.parent.mkdir(parents=True, exist_ok=True)\n",
    "        break"
   ]
  },
  {
   "cell_type": "markdown",
   "metadata": {},
   "source": [
    "## 3. Login to Google Earth Engine\n",
    "\n",
    "If this is your first time logging in, you will need to execute a command on terminal."
   ]
  },
  {
   "cell_type": "code",
   "execution_count": 28,
   "metadata": {
    "code_folding": [
     0
    ]
   },
   "outputs": [],
   "source": [
    "#Login to Google Earth Engine\n",
    "try:\n",
    "    ee.Initialize()\n",
    "except:\n",
    "    print('In a terminal run: conda activate hydrosar && earthengine authenticate')"
   ]
  },
  {
   "cell_type": "markdown",
   "metadata": {},
   "source": [
    "## 4. Select file if coordinates are set to zero\n",
    "\n",
    "The file is used to define the bounding box. "
   ]
  },
  {
   "cell_type": "code",
   "execution_count": 29,
   "metadata": {
    "code_folding": [
     0
    ]
   },
   "outputs": [
    {
     "name": "stdout",
     "output_type": "stream",
     "text": [
      "Choose a tif file to determine the extent on which to crop the HAND file:\n"
     ]
    },
    {
     "data": {
      "application/vnd.jupyter.widget-view+json": {
       "model_id": "bbce3a1164224d238c64b67c21f926dc",
       "version_major": 2,
       "version_minor": 0
      },
      "text/plain": [
       "FileChooser(path='/home/jovyan/notebooks', filename='', title='', show_hidden=False, select_desc='Select', cha…"
      ]
     },
     "metadata": {},
     "output_type": "display_data"
    }
   ],
   "source": [
    "# Select gdal file if WESN is all zeros. \n",
    "if W == E or N == S:\n",
    "    print(\"Choose a tif file to determine the extent on which to crop the HAND file:\")\n",
    "    # f = PathSelector('.')\n",
    "    # display(f.accord)\n",
    "    f = FileChooser('/home/jovyan/notebooks')\n",
    "    display(f)\n",
    "else:\n",
    "    pass"
   ]
  },
  {
   "cell_type": "code",
   "execution_count": 30,
   "metadata": {
    "code_folding": [
     0
    ]
   },
   "outputs": [
    {
     "name": "stdout",
     "output_type": "stream",
     "text": [
      "Selected file: /home/jovyan/notebooks/Hydrosar/SAR_Images/Cropped_Zone1_dem/Zone1_merged.tiff\n",
      "Bounding Box W/E/S/N: 89.09 / 90.02 / 22.57 / 23.59\n"
     ]
    }
   ],
   "source": [
    "#Get W,E,S,N from file if needed. \n",
    "if W == E or N == S:\n",
    "    gdal_file = Path(f.selected)   \n",
    "    if gdal_file.exists():\n",
    "        print(f'Selected file: {gdal_file}')\n",
    "    else:\n",
    "        print(f'Can not find file: {gdal_file}')\n",
    "        raise ValueError\n",
    "        \n",
    "    W, E, S, N = gdal_get_WESN(gdal_file)\n",
    "    epsg = gdal_get_projection(gdal_file, out_format='epsg')\n",
    "    if epsg == \"4326\":\n",
    "        pass\n",
    "    else:\n",
    "        srs = gdal_get_projection(gdal_file, out_format='proj4')\n",
    "        W, N, h = transform_point(W, N, 0, s_srs=srs)\n",
    "        E, S, h = transform_point(E, S, 0, s_srs=srs)\n",
    "        W = round(W, 2)\n",
    "        E = round(E, 2)\n",
    "        S = round(S, 2)\n",
    "        N = round(N, 2)\n",
    "        del h # we don't use height\n",
    "    # the epsg of the downloaded file will be 4326\n",
    "    epsg = '4326'\n",
    "    print(f'Bounding Box W/E/S/N: {W} / {E} / {S} / {N}')\n",
    "else:\n",
    "    epsg = '4326'"
   ]
  },
  {
   "cell_type": "markdown",
   "metadata": {},
   "source": [
    "## 5. Download from Google Earth Engine\n",
    "\n",
    "Depending on the area requested this could take a while."
   ]
  },
  {
   "cell_type": "code",
   "execution_count": 31,
   "metadata": {
    "code_folding": []
   },
   "outputs": [
    {
     "name": "stdout",
     "output_type": "stream",
     "text": [
      "Area too large by a factor of: 1.7596273711109014\n",
      "SN: [22.57 23.08 23.59]\n",
      "WE: [89.09  89.555 90.02 ]\n",
      "Downloading...\n"
     ]
    },
    {
     "data": {
      "application/vnd.jupyter.widget-view+json": {
       "model_id": "e3e1c192f1d4484687ee19f87b282ecd",
       "version_major": 2,
       "version_minor": 0
      },
      "text/plain": [
       "  0%|          | 0/2 [00:00<?, ?it/s]"
      ]
     },
     "metadata": {},
     "output_type": "display_data"
    },
    {
     "data": {
      "application/vnd.jupyter.widget-view+json": {
       "model_id": "72a162adbf1a4cf68b50c8ff713db121",
       "version_major": 2,
       "version_minor": 0
      },
      "text/plain": [
       "  0%|          | 0/2 [00:00<?, ?it/s]"
      ]
     },
     "metadata": {},
     "output_type": "display_data"
    },
    {
     "name": "stdout",
     "output_type": "stream",
     "text": [
      "w/e/s/n: 89.09/89.555/22.57/23.08\n",
      "download: /home/jovyan/notebooks/Hydrosar/HAND_files/ge_E089090_N023080_E089555_N022570.zip\n",
      "Downloading ge_E089090_N023080_E089555_N022570.zip from: https://earthengine.googleapis.com/v1alpha/projects/earthengine-legacy/thumbnails/4219dce5612454668ef9bce3de2dc2f6-e252e671f8bb04188f48e88cce103046:getPixels\n",
      "w/e/s/n: 89.555/90.02/22.57/23.08\n",
      "download: /home/jovyan/notebooks/Hydrosar/HAND_files/ge_E089555_N023080_E090020_N022570.zip\n",
      "Downloading ge_E089555_N023080_E090020_N022570.zip from: https://earthengine.googleapis.com/v1alpha/projects/earthengine-legacy/thumbnails/ad215d6a2662a83461a9423331550748-9f0dec53c8740b11a23f86f2847e1134:getPixels\n"
     ]
    },
    {
     "data": {
      "application/vnd.jupyter.widget-view+json": {
       "model_id": "ba7974bfe59f48ba97f1ec15cf669317",
       "version_major": 2,
       "version_minor": 0
      },
      "text/plain": [
       "  0%|          | 0/2 [00:00<?, ?it/s]"
      ]
     },
     "metadata": {},
     "output_type": "display_data"
    },
    {
     "name": "stdout",
     "output_type": "stream",
     "text": [
      "w/e/s/n: 89.09/89.555/23.08/23.59\n",
      "download: /home/jovyan/notebooks/Hydrosar/HAND_files/ge_E089090_N023590_E089555_N023080.zip\n",
      "Downloading ge_E089090_N023590_E089555_N023080.zip from: https://earthengine.googleapis.com/v1alpha/projects/earthengine-legacy/thumbnails/45c2b9815ce0bc0b6153ad99ce3248f6-1a799779e4fdb3d9641e827dca2b9a2b:getPixels\n",
      "w/e/s/n: 89.555/90.02/23.08/23.59\n",
      "download: /home/jovyan/notebooks/Hydrosar/HAND_files/ge_E089555_N023590_E090020_N023080.zip\n",
      "Downloading ge_E089555_N023590_E090020_N023080.zip from: https://earthengine.googleapis.com/v1alpha/projects/earthengine-legacy/thumbnails/420d2575d85b214244d76c87ff05c228-1fcd56139ff00fd283a784896edc32cf:getPixels\n",
      "[PosixPath('/home/jovyan/notebooks/Hydrosar/HAND_files/ge_E089090_N023080_E089555_N022570.zip'), PosixPath('/home/jovyan/notebooks/Hydrosar/HAND_files/ge_E089555_N023080_E090020_N022570.zip'), PosixPath('/home/jovyan/notebooks/Hydrosar/HAND_files/ge_E089090_N023590_E089555_N023080.zip'), PosixPath('/home/jovyan/notebooks/Hydrosar/HAND_files/ge_E089555_N023590_E090020_N023080.zip')]\n",
      "Unzipping...\n",
      "[['download.b1_mean.tif'], ['download.b1_mean.tif'], ['download.b1_mean.tif'], ['download.b1_mean.tif']]\n",
      "contents:[PosixPath('/home/jovyan/notebooks/Hydrosar/HAND_files/download.b1_mean.tif'), PosixPath('/home/jovyan/notebooks/Hydrosar/HAND_files/download.b1_mean.tif'), PosixPath('/home/jovyan/notebooks/Hydrosar/HAND_files/download.b1_mean.tif'), PosixPath('/home/jovyan/notebooks/Hydrosar/HAND_files/download.b1_mean.tif')]\n"
     ]
    },
    {
     "data": {
      "application/vnd.jupyter.widget-view+json": {
       "model_id": "fa866948cb6e4ae8be6d3d1e965cbaad",
       "version_major": 2,
       "version_minor": 0
      },
      "text/plain": [
       "0it [00:00, ?it/s]"
      ]
     },
     "metadata": {},
     "output_type": "display_data"
    },
    {
     "name": "stdout",
     "output_type": "stream",
     "text": [
      "Skipping cleanup in debug mode or when keep_downloads is set.\n",
      "Files NOT deleted: [PosixPath('/home/jovyan/notebooks/Hydrosar/HAND_files/ge_E089090_N023080_E089555_N022570.zip'), PosixPath('/home/jovyan/notebooks/Hydrosar/HAND_files/ge_E089555_N023080_E090020_N022570.zip'), PosixPath('/home/jovyan/notebooks/Hydrosar/HAND_files/ge_E089090_N023590_E089555_N023080.zip'), PosixPath('/home/jovyan/notebooks/Hydrosar/HAND_files/ge_E089555_N023590_E090020_N023080.zip')]\n",
      "Folders NOT deleted: [PosixPath('/home/jovyan/notebooks/Hydrosar/HAND_files'), PosixPath('/home/jovyan/notebooks/Hydrosar/HAND_files'), PosixPath('/home/jovyan/notebooks/Hydrosar/HAND_files'), PosixPath('/home/jovyan/notebooks/Hydrosar/HAND_files')]\n",
      "Successfully generated:/home/jovyan/notebooks/Hydrosar/HAND_files/HAND_TEST.tif\n"
     ]
    }
   ],
   "source": [
    "# Download and stitch tiles \n",
    "download_from_ge(W, E, S, N, \n",
    "                 download_path=output_file, \n",
    "                 debug=1, keep_downloads=None, \n",
    "                 dstSRS=f\"EPSG:{str(epsg)}\")"
   ]
  },
  {
   "cell_type": "markdown",
   "metadata": {},
   "source": [
    "---\n",
    "\n",
    "*Version 0.1.0 - Batu Osmanoglu*\n",
    "*Version 0.1.1 - Batu Osmanoglu*\n",
    "*Version 0.1.2 - Alex Lewandowski & Rui Kawahara*\n",
    "    \n",
    "*Change Log:*\n",
    "- *2021/11/22: v0.1.2 Alex Lewandowski & Rui Kawahara*\n",
    "    - *Feat: Use url-widget to access url via js, needed for jupyterLab*\n",
    "    - *Feat: Use ipyfilechooseripyfilechooser to shorten notebook*\n",
    "    - *Feat: Change html to Markdown for better rendering on GitHub*\n",
    "    - *Feat: os -> pathlib*\n",
    "- *2021/01/24: v0.1.1*\n",
    "    - *Feat: Minor organization change, and added comments*\n",
    "- *2021/01/13: v0.1.0*\n",
    "- ***Initial version:** 2021/04/016*"
   ]
  }
 ],
 "metadata": {
  "kernelspec": {
   "display_name": "hydrosar [conda env:.local-hydrosar]",
   "language": "python",
   "name": "conda-env-.local-hydrosar-py"
  },
  "language_info": {
   "codemirror_mode": {
    "name": "ipython",
    "version": 3
   },
   "file_extension": ".py",
   "mimetype": "text/x-python",
   "name": "python",
   "nbconvert_exporter": "python",
   "pygments_lexer": "ipython3",
   "version": "3.11.3"
  }
 },
 "nbformat": 4,
 "nbformat_minor": 4
}
